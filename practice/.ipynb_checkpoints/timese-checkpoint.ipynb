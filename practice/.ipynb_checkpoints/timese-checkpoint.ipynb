{
 "cells": [
  {
   "cell_type": "code",
   "execution_count": 1,
   "metadata": {
    "collapsed": true
   },
   "outputs": [],
   "source": [
    "import pandas as pd\n",
    "import numpy as np\n",
    "from datetime import timedelta\n",
    "from datetime import datetime\n",
    "import matplotlib.pyplot as plt"
   ]
  },
  {
   "cell_type": "code",
   "execution_count": 2,
   "metadata": {},
   "outputs": [
    {
     "data": {
      "text/html": [
       "<div>\n",
       "<style>\n",
       "    .dataframe thead tr:only-child th {\n",
       "        text-align: right;\n",
       "    }\n",
       "\n",
       "    .dataframe thead th {\n",
       "        text-align: left;\n",
       "    }\n",
       "\n",
       "    .dataframe tbody tr th {\n",
       "        vertical-align: top;\n",
       "    }\n",
       "</style>\n",
       "<table border=\"1\" class=\"dataframe\">\n",
       "  <thead>\n",
       "    <tr style=\"text-align: right;\">\n",
       "      <th></th>\n",
       "      <th>id</th>\n",
       "      <th>type</th>\n",
       "      <th>time</th>\n",
       "      <th>amount</th>\n",
       "    </tr>\n",
       "  </thead>\n",
       "  <tbody>\n",
       "    <tr>\n",
       "      <th>0</th>\n",
       "      <td>56498c50-84e4</td>\n",
       "      <td>flavor15</td>\n",
       "      <td>2015-01-01 19:03:32</td>\n",
       "      <td>1</td>\n",
       "    </tr>\n",
       "    <tr>\n",
       "      <th>1</th>\n",
       "      <td>56498c51-8cb9</td>\n",
       "      <td>flavor15</td>\n",
       "      <td>2015-01-01 19:03:34</td>\n",
       "      <td>1</td>\n",
       "    </tr>\n",
       "    <tr>\n",
       "      <th>2</th>\n",
       "      <td>56498c52-a50e</td>\n",
       "      <td>flavor8</td>\n",
       "      <td>2015-01-01 23:26:04</td>\n",
       "      <td>1</td>\n",
       "    </tr>\n",
       "    <tr>\n",
       "      <th>3</th>\n",
       "      <td>56498c53-a241</td>\n",
       "      <td>flavor2</td>\n",
       "      <td>2015-01-02 18:25:23</td>\n",
       "      <td>1</td>\n",
       "    </tr>\n",
       "    <tr>\n",
       "      <th>4</th>\n",
       "      <td>56498c54-8528</td>\n",
       "      <td>flavor8</td>\n",
       "      <td>2015-01-02 21:03:49</td>\n",
       "      <td>1</td>\n",
       "    </tr>\n",
       "  </tbody>\n",
       "</table>\n",
       "</div>"
      ],
      "text/plain": [
       "              id      type                 time  amount\n",
       "0  56498c50-84e4  flavor15  2015-01-01 19:03:32       1\n",
       "1  56498c51-8cb9  flavor15  2015-01-01 19:03:34       1\n",
       "2  56498c52-a50e   flavor8  2015-01-01 23:26:04       1\n",
       "3  56498c53-a241   flavor2  2015-01-02 18:25:23       1\n",
       "4  56498c54-8528   flavor8  2015-01-02 21:03:49       1"
      ]
     },
     "execution_count": 2,
     "metadata": {},
     "output_type": "execute_result"
    }
   ],
   "source": [
    "#fname = '.\\data\\hw\\data_2015_1.txt'\n",
    "fname = '../datasets/data_2015_1.txt'\n",
    "data_cols = ['id','type','time']\n",
    "data = pd.read_table(fname,sep='\\t',header=None,names=data_cols)\n",
    "data['amount'] = 1\n",
    "data.head()"
   ]
  },
  {
   "cell_type": "code",
   "execution_count": 2,
   "metadata": {
    "collapsed": true
   },
   "outputs": [],
   "source": [
    "# 必要函数\n",
    "def myvstack(up,down):\n",
    "    return np.vstack((up,down))\n",
    "\n",
    "def clearcount(data):\n",
    "    type_list = list(set(data['type']))\n",
    "    count_dict = dict()\n",
    "    for i in range(len(type_list)):\n",
    "        count_dict[type_list[i]]=[]\n",
    "    return type_list,count_dict\n",
    "    "
   ]
  },
  {
   "cell_type": "code",
   "execution_count": 3,
   "metadata": {},
   "outputs": [
    {
     "data": {
      "text/plain": [
       "id        0\n",
       "type      0\n",
       "time      0\n",
       "amount    0\n",
       "dtype: int64"
      ]
     },
     "execution_count": 3,
     "metadata": {},
     "output_type": "execute_result"
    }
   ],
   "source": [
    "data.isnull().sum()"
   ]
  },
  {
   "cell_type": "code",
   "execution_count": 4,
   "metadata": {},
   "outputs": [
    {
     "data": {
      "text/plain": [
       "id        object\n",
       "type      object\n",
       "time      object\n",
       "amount     int64\n",
       "dtype: object"
      ]
     },
     "execution_count": 4,
     "metadata": {},
     "output_type": "execute_result"
    }
   ],
   "source": [
    "data.dtypes"
   ]
  },
  {
   "cell_type": "code",
   "execution_count": 8,
   "metadata": {
    "scrolled": true
   },
   "outputs": [
    {
     "data": {
      "text/html": [
       "<div>\n",
       "<style>\n",
       "    .dataframe thead tr:only-child th {\n",
       "        text-align: right;\n",
       "    }\n",
       "\n",
       "    .dataframe thead th {\n",
       "        text-align: left;\n",
       "    }\n",
       "\n",
       "    .dataframe tbody tr th {\n",
       "        vertical-align: top;\n",
       "    }\n",
       "</style>\n",
       "<table border=\"1\" class=\"dataframe\">\n",
       "  <thead>\n",
       "    <tr style=\"text-align: right;\">\n",
       "      <th></th>\n",
       "      <th>id</th>\n",
       "      <th>type</th>\n",
       "      <th>time</th>\n",
       "      <th>amount</th>\n",
       "    </tr>\n",
       "  </thead>\n",
       "  <tbody>\n",
       "    <tr>\n",
       "      <th>0</th>\n",
       "      <td>56498c50-84e4</td>\n",
       "      <td>flavor15</td>\n",
       "      <td>2015-01-01 19:03:32</td>\n",
       "      <td>1</td>\n",
       "    </tr>\n",
       "    <tr>\n",
       "      <th>1</th>\n",
       "      <td>56498c51-8cb9</td>\n",
       "      <td>flavor15</td>\n",
       "      <td>2015-01-01 19:03:34</td>\n",
       "      <td>1</td>\n",
       "    </tr>\n",
       "    <tr>\n",
       "      <th>2</th>\n",
       "      <td>56498c52-a50e</td>\n",
       "      <td>flavor8</td>\n",
       "      <td>2015-01-01 23:26:04</td>\n",
       "      <td>1</td>\n",
       "    </tr>\n",
       "    <tr>\n",
       "      <th>3</th>\n",
       "      <td>56498c53-a241</td>\n",
       "      <td>flavor2</td>\n",
       "      <td>2015-01-02 18:25:23</td>\n",
       "      <td>1</td>\n",
       "    </tr>\n",
       "    <tr>\n",
       "      <th>4</th>\n",
       "      <td>56498c54-8528</td>\n",
       "      <td>flavor8</td>\n",
       "      <td>2015-01-02 21:03:49</td>\n",
       "      <td>1</td>\n",
       "    </tr>\n",
       "  </tbody>\n",
       "</table>\n",
       "</div>"
      ],
      "text/plain": [
       "              id      type                time  amount\n",
       "0  56498c50-84e4  flavor15 2015-01-01 19:03:32       1\n",
       "1  56498c51-8cb9  flavor15 2015-01-01 19:03:34       1\n",
       "2  56498c52-a50e   flavor8 2015-01-01 23:26:04       1\n",
       "3  56498c53-a241   flavor2 2015-01-02 18:25:23       1\n",
       "4  56498c54-8528   flavor8 2015-01-02 21:03:49       1"
      ]
     },
     "execution_count": 8,
     "metadata": {},
     "output_type": "execute_result"
    }
   ],
   "source": [
    "data['time'] = pd.to_datetime(data['time'])\n",
    "data.head()"
   ]
  },
  {
   "cell_type": "code",
   "execution_count": 9,
   "metadata": {
    "collapsed": true
   },
   "outputs": [],
   "source": [
    "#创造型号列表用于索引每周统计数据\n",
    "type_list = list(set(data['type']))\n",
    "count_dict = dict()\n",
    "for i in range(len(type_list)):\n",
    "    count_dict[type_list[i]]=[]"
   ]
  },
  {
   "cell_type": "code",
   "execution_count": 10,
   "metadata": {},
   "outputs": [
    {
     "data": {
      "text/plain": [
       "[[datetime.datetime(2015, 1, 1, 0, 0), datetime.datetime(2015, 1, 8, 0, 0)],\n",
       " [datetime.datetime(2015, 1, 8, 0, 0), datetime.datetime(2015, 1, 15, 0, 0)],\n",
       " [datetime.datetime(2015, 1, 15, 0, 0), datetime.datetime(2015, 1, 22, 0, 0)],\n",
       " [datetime.datetime(2015, 1, 22, 0, 0), datetime.datetime(2015, 1, 29, 0, 0)],\n",
       " [datetime.datetime(2015, 1, 29, 0, 0), datetime.datetime(2015, 2, 5, 0, 0)]]"
      ]
     },
     "execution_count": 10,
     "metadata": {},
     "output_type": "execute_result"
    }
   ],
   "source": [
    "# 创造每周时间范围，用于产生统计周期\n",
    "i=1\n",
    "k=1\n",
    "time_arr = []\n",
    "start_date = datetime(2015, 1, 1)\n",
    "while(start_date<data.time.max()):\n",
    "    end_date = start_date + timedelta(7)\n",
    "    #print(start_date,end_date)\n",
    "    time_arr.append([start_date,end_date])\n",
    "    start_date = end_date\n",
    "    i=i+1\n",
    "    if i>50:\n",
    "        break\n",
    "time_arr"
   ]
  },
  {
   "cell_type": "code",
   "execution_count": null,
   "metadata": {
    "collapsed": true
   },
   "outputs": [],
   "source": [
    "# 清空已统计的数据\n",
    "type_list, count_dict = clearcount(data)"
   ]
  },
  {
   "cell_type": "code",
   "execution_count": 11,
   "metadata": {
    "collapsed": true
   },
   "outputs": [],
   "source": [
    "# 统计各类型的数据并画出时间序列图\n",
    "time_arr = np.array(time_arr)\n",
    "for i in range(len(time_arr)):\n",
    "    week_i=data[(time_arr[i,0] <= data.time) & (data.time <= time_arr[i,1])]\n",
    "    for j in range(len(type_list)):\n",
    "        count_dict[type_list[j]].append(week_i.loc[week_i.type==type_list[j]].count().amount)\n",
    "weekly_data = pd.DataFrame(count_dict,index=time_arr[:,0])"
   ]
  },
  {
   "cell_type": "code",
   "execution_count": 75,
   "metadata": {
    "scrolled": true
   },
   "outputs": [
    {
     "data": {
      "text/plain": [
       "2015-01-01    28\n",
       "2015-01-08    81\n",
       "2015-01-15    56\n",
       "2015-01-22    23\n",
       "2015-01-29     6\n",
       "dtype: int64"
      ]
     },
     "execution_count": 75,
     "metadata": {},
     "output_type": "execute_result"
    }
   ],
   "source": [
    "weekly_data"
   ]
  },
  {
   "cell_type": "code",
   "execution_count": 77,
   "metadata": {
    "collapsed": true
   },
   "outputs": [],
   "source": [
    "weeksum = weekly_data.sum(axis=1)\n",
    "datecsv = pd.DataFrame(time_arr[:,0],columns=['date'])\n",
    "date_length = datecsv.count().date\n",
    "weekcsv = weeksum.to_frame(name='sale').set_index(np.arange(date_length))\n",
    "save = pd.concat([datecsv, weekcsv], axis=1)  \n",
    "save.to_csv('weeksum.csv',index=False,sep=',')"
   ]
  },
  {
   "cell_type": "code",
   "execution_count": 76,
   "metadata": {},
   "outputs": [
    {
     "data": {
      "text/plain": [
       "datetime.datetime(2015, 1, 1, 0, 0)"
      ]
     },
     "execution_count": 76,
     "metadata": {},
     "output_type": "execute_result"
    }
   ],
   "source": [
    "time_arr[0,0]"
   ]
  },
  {
   "cell_type": "code",
   "execution_count": 45,
   "metadata": {
    "collapsed": true
   },
   "outputs": [
    {
     "name": "stdout",
     "output_type": "stream",
     "text": [
      "1 8 2015-01-01 00:00:00 2015-01-08 00:00:00\n",
      "8 15 2015-01-08 00:00:00 2015-01-15 00:00:00\n",
      "15 22 2015-01-15 00:00:00 2015-01-22 00:00:00\n",
      "22 29 2015-01-22 00:00:00 2015-01-29 00:00:00\n",
      "29 36 2015-01-29 00:00:00 2015-01-31 23:59:59\n"
     ]
    },
    {
     "data": {
      "text/plain": [
       "array([[1.1024774924674e-311, 1.102488682177e-311],\n",
       "       [datetime.datetime(2015, 1, 1, 0, 0),\n",
       "        datetime.datetime(2015, 1, 8, 0, 0)],\n",
       "       [datetime.datetime(2015, 1, 8, 0, 0),\n",
       "        datetime.datetime(2015, 1, 15, 0, 0)],\n",
       "       [datetime.datetime(2015, 1, 15, 0, 0),\n",
       "        datetime.datetime(2015, 1, 22, 0, 0)],\n",
       "       [datetime.datetime(2015, 1, 22, 0, 0),\n",
       "        datetime.datetime(2015, 1, 29, 0, 0)],\n",
       "       [datetime.datetime(2015, 1, 29, 0, 0),\n",
       "        datetime.datetime(2015, 1, 31, 23, 59, 59)]], dtype=object)"
      ]
     },
     "execution_count": 45,
     "metadata": {},
     "output_type": "execute_result"
    }
   ],
   "source": [
    "# #创造每周时间范围，用于产生统计周期\n",
    "# 旧方法\n",
    "# from datetime import datetime\n",
    "# i=1\n",
    "# time_arr = np.empty((1,2))\n",
    "# start_date = datetime(2015, 1, i)\n",
    "# while(start_date<data.time.max()):\n",
    "#     j=i+7\n",
    "#     start_date = datetime(2015, 1, i)\n",
    "#     if j<31:\n",
    "#         end_date = datetime(2015, 1, j)\n",
    "#     else:\n",
    "#         end_date = datetime(2015, 1, 31, 23, 59, 59)\n",
    "#     print(i,j,start_date,end_date)\n",
    "#     time_arr = np.vstack((time_arr,np.array((start_date,end_date))))\n",
    "#     start_date = end_date\n",
    "#     i=j"
   ]
  },
  {
   "cell_type": "code",
   "execution_count": 125,
   "metadata": {
    "collapsed": true
   },
   "outputs": [],
   "source": [
    "for i in range(len(time_arr)-1):\n",
    "    week_i=data[(time_arr[i+1,0] <= data.time) & (data.time <= time_arr[i+1,1])]\n",
    "    for j in range(len(type_list)):\n",
    "        count_dict[type_list[j]].append(week_i.loc[week_i.type==type_list[j]].count().amount)"
   ]
  },
  {
   "cell_type": "code",
   "execution_count": 127,
   "metadata": {
    "collapsed": true
   },
   "outputs": [],
   "source": [
    "weekly_data = pd.DataFrame(count_dict,index=time_arr[1:,0])"
   ]
  },
  {
   "cell_type": "code",
   "execution_count": 129,
   "metadata": {
    "scrolled": true
   },
   "outputs": [
    {
     "data": {
      "text/plain": [
       "<matplotlib.axes._subplots.AxesSubplot at 0x2078e90c4e0>"
      ]
     },
     "execution_count": 129,
     "metadata": {},
     "output_type": "execute_result"
    },
    {
     "data": {
      "image/png": "[encoded data removed]",
      "text/plain": [
       "<matplotlib.figure.Figure at 0x2078e2f1b00>"
      ]
     },
     "metadata": {},
     "output_type": "display_data"
    }
   ],
   "source": [
    "%matplotlib inline\n",
    "weekly_data.plot(grid='on')"
   ]
  },
  {
   "cell_type": "code",
   "execution_count": null,
   "metadata": {
    "collapsed": true
   },
   "outputs": [],
   "source": []
  },
  {
   "cell_type": "code",
   "execution_count": 57,
   "metadata": {
    "collapsed": true
   },
   "outputs": [],
   "source": [
    "weak_table_cols = list(week1.index)"
   ]
  },
  {
   "cell_type": "code",
   "execution_count": 59,
   "metadata": {
    "scrolled": true
   },
   "outputs": [
    {
     "data": {
      "text/plain": [
       "array([[ 0.57168759,  0.95465622,  0.10689101,  0.3939244 ,  0.53082908,\n",
       "         0.10717887,  0.90828874,  0.53498258],\n",
       "       [ 0.55279148,  0.48062714,  0.68937577,  0.84968834,  0.97285856,\n",
       "         0.42894707,  0.57687962,  0.96541397],\n",
       "       [ 0.52415657,  0.49517522,  0.58067996,  0.91404039,  0.44925304,\n",
       "         0.85894595,  0.36303994,  0.11367631],\n",
       "       [ 0.8321577 ,  0.23166912,  0.18872649,  0.49439616,  0.99809149,\n",
       "         0.82113859,  0.19748263,  0.80286244]])"
      ]
     },
     "execution_count": 59,
     "metadata": {},
     "output_type": "execute_result"
    }
   ],
   "source": [
    "import numpy as np\n",
    "arr = np.random.rand(4, 8)\n",
    "arr"
   ]
  },
  {
   "cell_type": "code",
   "execution_count": 68,
   "metadata": {
    "collapsed": true
   },
   "outputs": [],
   "source": [
    "\n",
    "arr2 = np.vstack((arr, arr))"
   ]
  },
  {
   "cell_type": "code",
   "execution_count": 73,
   "metadata": {
    "collapsed": true
   },
   "outputs": [],
   "source": [
    "arr1=np.array([arr,arr])"
   ]
  },
  {
   "cell_type": "code",
   "execution_count": null,
   "metadata": {
    "collapsed": true
   },
   "outputs": [],
   "source": []
  },
  {
   "cell_type": "code",
   "execution_count": 86,
   "metadata": {},
   "outputs": [
    {
     "data": {
      "text/html": [
       "<div>\n",
       "<style>\n",
       "    .dataframe thead tr:only-child th {\n",
       "        text-align: right;\n",
       "    }\n",
       "\n",
       "    .dataframe thead th {\n",
       "        text-align: left;\n",
       "    }\n",
       "\n",
       "    .dataframe tbody tr th {\n",
       "        vertical-align: top;\n",
       "    }\n",
       "</style>\n",
       "<table border=\"1\" class=\"dataframe\">\n",
       "  <thead>\n",
       "    <tr style=\"text-align: right;\">\n",
       "      <th></th>\n",
       "      <th>flavor11</th>\n",
       "      <th>flavor12</th>\n",
       "      <th>flavor15</th>\n",
       "      <th>flavor17</th>\n",
       "      <th>flavor2</th>\n",
       "      <th>flavor6</th>\n",
       "      <th>flavor8</th>\n",
       "      <th>flavor9</th>\n",
       "    </tr>\n",
       "  </thead>\n",
       "  <tbody>\n",
       "    <tr>\n",
       "      <th>0</th>\n",
       "      <td>4</td>\n",
       "      <td>8</td>\n",
       "      <td>6</td>\n",
       "      <td>1</td>\n",
       "      <td>1</td>\n",
       "      <td>2</td>\n",
       "      <td>4</td>\n",
       "      <td>2</td>\n",
       "    </tr>\n",
       "    <tr>\n",
       "      <th>1</th>\n",
       "      <td>4</td>\n",
       "      <td>8</td>\n",
       "      <td>6</td>\n",
       "      <td>1</td>\n",
       "      <td>1</td>\n",
       "      <td>2</td>\n",
       "      <td>4</td>\n",
       "      <td>2</td>\n",
       "    </tr>\n",
       "  </tbody>\n",
       "</table>\n",
       "</div>"
      ],
      "text/plain": [
       "   flavor11  flavor12  flavor15  flavor17  flavor2  flavor6  flavor8  flavor9\n",
       "0         4         8         6         1        1        2        4        2\n",
       "1         4         8         6         1        1        2        4        2"
      ]
     },
     "execution_count": 86,
     "metadata": {},
     "output_type": "execute_result"
    }
   ],
   "source": [
    "arr3 = myvstack(arr,arr)\n",
    "pd.DataFrame(arr3, columns=weak_table_cols )"
   ]
  },
  {
   "cell_type": "code",
   "execution_count": 46,
   "metadata": {
    "scrolled": true
   },
   "outputs": [
    {
     "data": {
      "text/html": [
       "<div>\n",
       "<style>\n",
       "    .dataframe thead tr:only-child th {\n",
       "        text-align: right;\n",
       "    }\n",
       "\n",
       "    .dataframe thead th {\n",
       "        text-align: left;\n",
       "    }\n",
       "\n",
       "    .dataframe tbody tr th {\n",
       "        vertical-align: top;\n",
       "    }\n",
       "</style>\n",
       "<table border=\"1\" class=\"dataframe\">\n",
       "  <thead>\n",
       "    <tr style=\"text-align: right;\">\n",
       "      <th></th>\n",
       "      <th>time</th>\n",
       "      <th>id</th>\n",
       "      <th>type</th>\n",
       "      <th>amount</th>\n",
       "    </tr>\n",
       "  </thead>\n",
       "  <tbody>\n",
       "    <tr>\n",
       "      <th>0</th>\n",
       "      <td>2015-01-01 19:03:32</td>\n",
       "      <td>56498c50-84e4</td>\n",
       "      <td>flavor15</td>\n",
       "      <td>1</td>\n",
       "    </tr>\n",
       "    <tr>\n",
       "      <th>1</th>\n",
       "      <td>2015-01-01 19:03:34</td>\n",
       "      <td>56498c51-8cb9</td>\n",
       "      <td>flavor15</td>\n",
       "      <td>1</td>\n",
       "    </tr>\n",
       "    <tr>\n",
       "      <th>2</th>\n",
       "      <td>2015-01-01 23:26:04</td>\n",
       "      <td>56498c52-a50e</td>\n",
       "      <td>flavor8</td>\n",
       "      <td>1</td>\n",
       "    </tr>\n",
       "    <tr>\n",
       "      <th>3</th>\n",
       "      <td>2015-01-02 18:25:23</td>\n",
       "      <td>56498c53-a241</td>\n",
       "      <td>flavor2</td>\n",
       "      <td>1</td>\n",
       "    </tr>\n",
       "    <tr>\n",
       "      <th>4</th>\n",
       "      <td>2015-01-02 21:03:49</td>\n",
       "      <td>56498c54-8528</td>\n",
       "      <td>flavor8</td>\n",
       "      <td>1</td>\n",
       "    </tr>\n",
       "  </tbody>\n",
       "</table>\n",
       "</div>"
      ],
      "text/plain": [
       "                 time             id      type  amount\n",
       "0 2015-01-01 19:03:32  56498c50-84e4  flavor15       1\n",
       "1 2015-01-01 19:03:34  56498c51-8cb9  flavor15       1\n",
       "2 2015-01-01 23:26:04  56498c52-a50e   flavor8       1\n",
       "3 2015-01-02 18:25:23  56498c53-a241   flavor2       1\n",
       "4 2015-01-02 21:03:49  56498c54-8528   flavor8       1"
      ]
     },
     "execution_count": 46,
     "metadata": {},
     "output_type": "execute_result"
    }
   ],
   "source": [
    "testStationarity(diff_12_1)\n",
    "data.head()"
   ]
  },
  {
   "cell_type": "code",
   "execution_count": 140,
   "metadata": {},
   "outputs": [
    {
     "data": {
      "image/png": "[encoded data removed]",
      "text/plain": [
       "<matplotlib.figure.Figure at 0x20790383588>"
      ]
     },
     "metadata": {},
     "output_type": "display_data"
    },
    {
     "data": {
      "image/png": "[encoded data removed]",
      "text/plain": [
       "<matplotlib.figure.Figure at 0x2079039de10>"
      ]
     },
     "metadata": {},
     "output_type": "display_data"
    },
    {
     "data": {
      "image/png": "[encoded data removed]",
      "text/plain": [
       "<matplotlib.figure.Figure at 0x207903a8780>"
      ]
     },
     "metadata": {},
     "output_type": "display_data"
    }
   ],
   "source": [
    "import matplotlib.pyplot as plt\n",
    "# figure的使用\n",
    "x = np.linspace(-1, 1, 50)\n",
    "y1 = 2 * x + 1\n",
    "\n",
    "# figure 1\n",
    "plt.figure()\n",
    "plt.plot(x, y1)\n",
    "\n",
    "\n",
    "# figure 2\n",
    "y2 = x**2\n",
    "plt.figure()\n",
    "plt.plot(x, y2)\n",
    "\n",
    "\n",
    "# figure 3，指定figure的编号并指定figure的大小, 指定线的颜色, 宽度和类型\n",
    "y2 = x**2\n",
    "plt.figure(num = 5, figsize = (4, 4))\n",
    "plt.plot(x, y1)\n",
    "plt.plot(x, y2, color = 'red', linewidth = 1.0, linestyle = '--')\n",
    "plt.show()"
   ]
  }
 ],
 "metadata": {
  "kernelspec": {
   "display_name": "Python 3",
   "language": "python",
   "name": "python3"
  },
  "language_info": {
   "codemirror_mode": {
    "name": "ipython",
    "version": 3
   },
   "file_extension": ".py",
   "mimetype": "text/x-python",
   "name": "python",
   "nbconvert_exporter": "python",
   "pygments_lexer": "ipython3",
   "version": "3.6.1"
  }
 },
 "nbformat": 4,
 "nbformat_minor": 2
}
