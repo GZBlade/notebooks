{
 "cells": [
  {
   "cell_type": "code",
   "execution_count": 1,
   "metadata": {
    "collapsed": true
   },
   "outputs": [],
   "source": [
    "import pandas as pd\n",
    "import numpy as np\n",
    "import matplotlib.pyplot as plt\n",
    "import matplotlib\n",
    "import sklearn\n",
    "import sklearn.preprocessing\n",
    "from sklearn import metrics\n",
    "from sklearn.linear_model import LinearRegression\n",
    "from sklearn import svm\n",
    "from sklearn.model_selection import train_test_split\n",
    "from scipy import stats\n",
    "matplotlib.rcParams['font.family']='SimHei'"
   ]
  },
  {
   "cell_type": "code",
   "execution_count": 18,
   "metadata": {},
   "outputs": [
    {
     "data": {
      "text/html": [
       "<div>\n",
       "<style>\n",
       "    .dataframe thead tr:only-child th {\n",
       "        text-align: right;\n",
       "    }\n",
       "\n",
       "    .dataframe thead th {\n",
       "        text-align: left;\n",
       "    }\n",
       "\n",
       "    .dataframe tbody tr th {\n",
       "        vertical-align: top;\n",
       "    }\n",
       "</style>\n",
       "<table border=\"1\" class=\"dataframe\">\n",
       "  <thead>\n",
       "    <tr style=\"text-align: right;\">\n",
       "      <th></th>\n",
       "      <th>id</th>\n",
       "      <th>height</th>\n",
       "      <th>chest</th>\n",
       "      <th>lower_chest</th>\n",
       "      <th>waist</th>\n",
       "      <th>upper_butt</th>\n",
       "      <th>middle_butt</th>\n",
       "    </tr>\n",
       "  </thead>\n",
       "  <tbody>\n",
       "    <tr>\n",
       "      <th>0</th>\n",
       "      <td>1</td>\n",
       "      <td>163</td>\n",
       "      <td>83</td>\n",
       "      <td>70</td>\n",
       "      <td>70</td>\n",
       "      <td>74</td>\n",
       "      <td>88</td>\n",
       "    </tr>\n",
       "    <tr>\n",
       "      <th>1</th>\n",
       "      <td>2</td>\n",
       "      <td>158</td>\n",
       "      <td>81</td>\n",
       "      <td>68</td>\n",
       "      <td>68</td>\n",
       "      <td>72</td>\n",
       "      <td>86</td>\n",
       "    </tr>\n",
       "    <tr>\n",
       "      <th>2</th>\n",
       "      <td>3</td>\n",
       "      <td>165</td>\n",
       "      <td>85</td>\n",
       "      <td>71</td>\n",
       "      <td>70</td>\n",
       "      <td>75</td>\n",
       "      <td>89</td>\n",
       "    </tr>\n",
       "    <tr>\n",
       "      <th>3</th>\n",
       "      <td>4</td>\n",
       "      <td>170</td>\n",
       "      <td>88</td>\n",
       "      <td>73</td>\n",
       "      <td>73</td>\n",
       "      <td>78</td>\n",
       "      <td>92</td>\n",
       "    </tr>\n",
       "    <tr>\n",
       "      <th>4</th>\n",
       "      <td>5</td>\n",
       "      <td>164</td>\n",
       "      <td>84</td>\n",
       "      <td>71</td>\n",
       "      <td>70</td>\n",
       "      <td>75</td>\n",
       "      <td>89</td>\n",
       "    </tr>\n",
       "  </tbody>\n",
       "</table>\n",
       "</div>"
      ],
      "text/plain": [
       "   id  height  chest  lower_chest  waist  upper_butt  middle_butt\n",
       "0   1     163     83           70     70          74           88\n",
       "1   2     158     81           68     68          72           86\n",
       "2   3     165     85           71     70          75           89\n",
       "3   4     170     88           73     73          78           92\n",
       "4   5     164     84           71     70          75           89"
      ]
     },
     "execution_count": 18,
     "metadata": {},
     "output_type": "execute_result"
    }
   ],
   "source": [
    "wb = pd.read_excel('..\\\\datasets\\\\figure.xlsx',sheetname='hourglass')\n",
    "wb.dropna(inplace=True,axis=1)\n",
    "wb.head()"
   ]
  },
  {
   "cell_type": "code",
   "execution_count": 19,
   "metadata": {},
   "outputs": [
    {
     "data": {
      "text/html": [
       "<div>\n",
       "<style>\n",
       "    .dataframe thead tr:only-child th {\n",
       "        text-align: right;\n",
       "    }\n",
       "\n",
       "    .dataframe thead th {\n",
       "        text-align: left;\n",
       "    }\n",
       "\n",
       "    .dataframe tbody tr th {\n",
       "        vertical-align: top;\n",
       "    }\n",
       "</style>\n",
       "<table border=\"1\" class=\"dataframe\">\n",
       "  <thead>\n",
       "    <tr style=\"text-align: right;\">\n",
       "      <th></th>\n",
       "      <th>id</th>\n",
       "      <th>height</th>\n",
       "      <th>chest</th>\n",
       "      <th>lower_chest</th>\n",
       "      <th>waist</th>\n",
       "      <th>upper_butt</th>\n",
       "      <th>middle_butt</th>\n",
       "      <th>type</th>\n",
       "    </tr>\n",
       "  </thead>\n",
       "  <tbody>\n",
       "    <tr>\n",
       "      <th>0</th>\n",
       "      <td>1</td>\n",
       "      <td>154</td>\n",
       "      <td>82</td>\n",
       "      <td>75</td>\n",
       "      <td>76</td>\n",
       "      <td>79</td>\n",
       "      <td>83</td>\n",
       "      <td>apple</td>\n",
       "    </tr>\n",
       "    <tr>\n",
       "      <th>1</th>\n",
       "      <td>2</td>\n",
       "      <td>161</td>\n",
       "      <td>88</td>\n",
       "      <td>78</td>\n",
       "      <td>79</td>\n",
       "      <td>84</td>\n",
       "      <td>87</td>\n",
       "      <td>apple</td>\n",
       "    </tr>\n",
       "    <tr>\n",
       "      <th>2</th>\n",
       "      <td>3</td>\n",
       "      <td>157</td>\n",
       "      <td>84</td>\n",
       "      <td>76</td>\n",
       "      <td>78</td>\n",
       "      <td>79</td>\n",
       "      <td>85</td>\n",
       "      <td>apple</td>\n",
       "    </tr>\n",
       "    <tr>\n",
       "      <th>3</th>\n",
       "      <td>4</td>\n",
       "      <td>165</td>\n",
       "      <td>90</td>\n",
       "      <td>81</td>\n",
       "      <td>80</td>\n",
       "      <td>84</td>\n",
       "      <td>89</td>\n",
       "      <td>apple</td>\n",
       "    </tr>\n",
       "    <tr>\n",
       "      <th>4</th>\n",
       "      <td>5</td>\n",
       "      <td>173</td>\n",
       "      <td>96</td>\n",
       "      <td>87</td>\n",
       "      <td>85</td>\n",
       "      <td>89</td>\n",
       "      <td>94</td>\n",
       "      <td>apple</td>\n",
       "    </tr>\n",
       "  </tbody>\n",
       "</table>\n",
       "</div>"
      ],
      "text/plain": [
       "   id  height  chest  lower_chest  waist  upper_butt  middle_butt   type\n",
       "0   1     154     82           75     76          79           83  apple\n",
       "1   2     161     88           78     79          84           87  apple\n",
       "2   3     157     84           76     78          79           85  apple\n",
       "3   4     165     90           81     80          84           89  apple\n",
       "4   5     173     96           87     85          89           94  apple"
      ]
     },
     "execution_count": 19,
     "metadata": {},
     "output_type": "execute_result"
    }
   ],
   "source": [
    "complete = pd.read_excel('..\\\\datasets\\\\figure.xlsx',sheetname='complete')\n",
    "complete.dropna(inplace=True,axis=1)\n",
    "complete.head()"
   ]
  },
  {
   "cell_type": "code",
   "execution_count": 20,
   "metadata": {},
   "outputs": [
    {
     "data": {
      "text/html": [
       "<div>\n",
       "<style>\n",
       "    .dataframe thead tr:only-child th {\n",
       "        text-align: right;\n",
       "    }\n",
       "\n",
       "    .dataframe thead th {\n",
       "        text-align: left;\n",
       "    }\n",
       "\n",
       "    .dataframe tbody tr th {\n",
       "        vertical-align: top;\n",
       "    }\n",
       "</style>\n",
       "<table border=\"1\" class=\"dataframe\">\n",
       "  <thead>\n",
       "    <tr style=\"text-align: right;\">\n",
       "      <th></th>\n",
       "      <th>id</th>\n",
       "      <th>height</th>\n",
       "      <th>chest</th>\n",
       "      <th>lower_chest</th>\n",
       "      <th>waist</th>\n",
       "      <th>upper_butt</th>\n",
       "      <th>middle_butt</th>\n",
       "      <th>type</th>\n",
       "    </tr>\n",
       "  </thead>\n",
       "  <tbody>\n",
       "    <tr>\n",
       "      <th>0</th>\n",
       "      <td>1</td>\n",
       "      <td>154</td>\n",
       "      <td>82</td>\n",
       "      <td>75</td>\n",
       "      <td>76</td>\n",
       "      <td>79</td>\n",
       "      <td>83</td>\n",
       "      <td>apple</td>\n",
       "    </tr>\n",
       "    <tr>\n",
       "      <th>1</th>\n",
       "      <td>2</td>\n",
       "      <td>161</td>\n",
       "      <td>88</td>\n",
       "      <td>78</td>\n",
       "      <td>79</td>\n",
       "      <td>84</td>\n",
       "      <td>87</td>\n",
       "      <td>apple</td>\n",
       "    </tr>\n",
       "    <tr>\n",
       "      <th>2</th>\n",
       "      <td>3</td>\n",
       "      <td>157</td>\n",
       "      <td>84</td>\n",
       "      <td>76</td>\n",
       "      <td>78</td>\n",
       "      <td>79</td>\n",
       "      <td>85</td>\n",
       "      <td>apple</td>\n",
       "    </tr>\n",
       "    <tr>\n",
       "      <th>3</th>\n",
       "      <td>4</td>\n",
       "      <td>165</td>\n",
       "      <td>90</td>\n",
       "      <td>81</td>\n",
       "      <td>80</td>\n",
       "      <td>84</td>\n",
       "      <td>89</td>\n",
       "      <td>apple</td>\n",
       "    </tr>\n",
       "    <tr>\n",
       "      <th>4</th>\n",
       "      <td>5</td>\n",
       "      <td>173</td>\n",
       "      <td>96</td>\n",
       "      <td>87</td>\n",
       "      <td>85</td>\n",
       "      <td>89</td>\n",
       "      <td>94</td>\n",
       "      <td>apple</td>\n",
       "    </tr>\n",
       "  </tbody>\n",
       "</table>\n",
       "</div>"
      ],
      "text/plain": [
       "   id  height  chest  lower_chest  waist  upper_butt  middle_butt   type\n",
       "0   1     154     82           75     76          79           83  apple\n",
       "1   2     161     88           78     79          84           87  apple\n",
       "2   3     157     84           76     78          79           85  apple\n",
       "3   4     165     90           81     80          84           89  apple\n",
       "4   5     173     96           87     85          89           94  apple"
      ]
     },
     "execution_count": 20,
     "metadata": {},
     "output_type": "execute_result"
    }
   ],
   "source": [
    "# 加载训练前的数据\n",
    "before = pd.read_excel('..\\\\datasets\\\\figure.xlsx',sheetname='before')\n",
    "before.dropna(inplace=True,axis=1)\n",
    "before.head()"
   ]
  },
  {
   "cell_type": "code",
   "execution_count": 21,
   "metadata": {
    "scrolled": true
   },
   "outputs": [
    {
     "data": {
      "text/html": [
       "<div>\n",
       "<style>\n",
       "    .dataframe thead tr:only-child th {\n",
       "        text-align: right;\n",
       "    }\n",
       "\n",
       "    .dataframe thead th {\n",
       "        text-align: left;\n",
       "    }\n",
       "\n",
       "    .dataframe tbody tr th {\n",
       "        vertical-align: top;\n",
       "    }\n",
       "</style>\n",
       "<table border=\"1\" class=\"dataframe\">\n",
       "  <thead>\n",
       "    <tr style=\"text-align: right;\">\n",
       "      <th></th>\n",
       "      <th>id</th>\n",
       "      <th>height</th>\n",
       "      <th>chest</th>\n",
       "      <th>lower_chest</th>\n",
       "      <th>waist</th>\n",
       "      <th>upper_butt</th>\n",
       "      <th>middle_butt</th>\n",
       "      <th>type</th>\n",
       "    </tr>\n",
       "  </thead>\n",
       "  <tbody>\n",
       "    <tr>\n",
       "      <th>0</th>\n",
       "      <td>1</td>\n",
       "      <td>154</td>\n",
       "      <td>79</td>\n",
       "      <td>67</td>\n",
       "      <td>66</td>\n",
       "      <td>70</td>\n",
       "      <td>83</td>\n",
       "      <td>apple</td>\n",
       "    </tr>\n",
       "    <tr>\n",
       "      <th>1</th>\n",
       "      <td>2</td>\n",
       "      <td>161</td>\n",
       "      <td>83</td>\n",
       "      <td>70</td>\n",
       "      <td>69</td>\n",
       "      <td>74</td>\n",
       "      <td>87</td>\n",
       "      <td>apple</td>\n",
       "    </tr>\n",
       "    <tr>\n",
       "      <th>2</th>\n",
       "      <td>3</td>\n",
       "      <td>157</td>\n",
       "      <td>81</td>\n",
       "      <td>68</td>\n",
       "      <td>68</td>\n",
       "      <td>72</td>\n",
       "      <td>85</td>\n",
       "      <td>apple</td>\n",
       "    </tr>\n",
       "    <tr>\n",
       "      <th>3</th>\n",
       "      <td>4</td>\n",
       "      <td>165</td>\n",
       "      <td>85</td>\n",
       "      <td>71</td>\n",
       "      <td>70</td>\n",
       "      <td>75</td>\n",
       "      <td>89</td>\n",
       "      <td>apple</td>\n",
       "    </tr>\n",
       "    <tr>\n",
       "      <th>4</th>\n",
       "      <td>5</td>\n",
       "      <td>173</td>\n",
       "      <td>89</td>\n",
       "      <td>75</td>\n",
       "      <td>74</td>\n",
       "      <td>79</td>\n",
       "      <td>94</td>\n",
       "      <td>apple</td>\n",
       "    </tr>\n",
       "  </tbody>\n",
       "</table>\n",
       "</div>"
      ],
      "text/plain": [
       "   id  height  chest  lower_chest  waist  upper_butt  middle_butt   type\n",
       "0   1     154     79           67     66          70           83  apple\n",
       "1   2     161     83           70     69          74           87  apple\n",
       "2   3     157     81           68     68          72           85  apple\n",
       "3   4     165     85           71     70          75           89  apple\n",
       "4   5     173     89           75     74          79           94  apple"
      ]
     },
     "execution_count": 21,
     "metadata": {},
     "output_type": "execute_result"
    }
   ],
   "source": [
    "# 加载训练后的数据\n",
    "after = pd.read_excel('..\\\\datasets\\\\figure.xlsx',sheetname='after')\n",
    "after.dropna(inplace=True,axis=1)\n",
    "after.head()"
   ]
  },
  {
   "cell_type": "code",
   "execution_count": 79,
   "metadata": {},
   "outputs": [
    {
     "data": {
      "text/html": [
       "<div>\n",
       "<style>\n",
       "    .dataframe thead tr:only-child th {\n",
       "        text-align: right;\n",
       "    }\n",
       "\n",
       "    .dataframe thead th {\n",
       "        text-align: left;\n",
       "    }\n",
       "\n",
       "    .dataframe tbody tr th {\n",
       "        vertical-align: top;\n",
       "    }\n",
       "</style>\n",
       "<table border=\"1\" class=\"dataframe\">\n",
       "  <thead>\n",
       "    <tr style=\"text-align: right;\">\n",
       "      <th></th>\n",
       "      <th>动作</th>\n",
       "      <th>名称</th>\n",
       "      <th>组数</th>\n",
       "      <th>负荷</th>\n",
       "      <th>时间</th>\n",
       "      <th>备注</th>\n",
       "    </tr>\n",
       "  </thead>\n",
       "  <tbody>\n",
       "    <tr>\n",
       "      <th>0</th>\n",
       "      <td>动作一</td>\n",
       "      <td>肩部灵活性</td>\n",
       "      <td>4</td>\n",
       "      <td>木棍</td>\n",
       "      <td>5</td>\n",
       "      <td>肩部训练</td>\n",
       "    </tr>\n",
       "    <tr>\n",
       "      <th>1</th>\n",
       "      <td>动作二</td>\n",
       "      <td>坐姿推肩</td>\n",
       "      <td>6</td>\n",
       "      <td>20RM*20</td>\n",
       "      <td>7</td>\n",
       "      <td>肩部训练</td>\n",
       "    </tr>\n",
       "    <tr>\n",
       "      <th>2</th>\n",
       "      <td>动作三</td>\n",
       "      <td>高位下拉</td>\n",
       "      <td>6</td>\n",
       "      <td>25RM*20/25</td>\n",
       "      <td>8</td>\n",
       "      <td>肩部训练</td>\n",
       "    </tr>\n",
       "    <tr>\n",
       "      <th>3</th>\n",
       "      <td>动作四</td>\n",
       "      <td>坐姿划船</td>\n",
       "      <td>6</td>\n",
       "      <td>15RM*13/15</td>\n",
       "      <td>7</td>\n",
       "      <td>肩部训练</td>\n",
       "    </tr>\n",
       "    <tr>\n",
       "      <th>4</th>\n",
       "      <td>动作五</td>\n",
       "      <td>快走</td>\n",
       "      <td>1</td>\n",
       "      <td>速度9-10km/h</td>\n",
       "      <td>40</td>\n",
       "      <td>肩部训练</td>\n",
       "    </tr>\n",
       "  </tbody>\n",
       "</table>\n",
       "</div>"
      ],
      "text/plain": [
       "    动作     名称 组数          负荷  时间    备注\n",
       "0  动作一  肩部灵活性  4          木棍   5  肩部训练\n",
       "1  动作二   坐姿推肩  6     20RM*20   7  肩部训练\n",
       "2  动作三   高位下拉  6  25RM*20/25   8  肩部训练\n",
       "3  动作四   坐姿划船  6  15RM*13/15   7  肩部训练\n",
       "4  动作五     快走  1  速度9-10km/h  40  肩部训练"
      ]
     },
     "execution_count": 79,
     "metadata": {},
     "output_type": "execute_result"
    }
   ],
   "source": [
    "# 加载苹果型的计划数据\n",
    "apple_plan = pd.read_excel('..\\\\datasets\\\\fit_plan.xlsx',sheetname='apple')\n",
    "apple_plan.dropna(inplace=True,axis=1)\n",
    "apple_plan.head()"
   ]
  },
  {
   "cell_type": "code",
   "execution_count": 6,
   "metadata": {
    "collapsed": true
   },
   "outputs": [],
   "source": [
    "sort_height = wb.sort_values('height').copy()"
   ]
  },
  {
   "cell_type": "code",
   "execution_count": 27,
   "metadata": {
    "collapsed": true
   },
   "outputs": [],
   "source": [
    "sort_chest = wb.sort_values('chest').copy()\n",
    "sort_lower_chest = wb.sort_values('lower_chest').copy()\n",
    "sort_waist = wb.sort_values('waist').copy()\n",
    "sort_shoulder = wb.sort_values('shoulder').copy()\n",
    "sort_middle_butt = wb.sort_values('middle_butt').copy()"
   ]
  },
  {
   "cell_type": "code",
   "execution_count": 7,
   "metadata": {
    "collapsed": true
   },
   "outputs": [
    {
     "data": {
      "image/png": "[encoded data removed]",
      "text/plain": [
       "<matplotlib.figure.Figure at 0x18f58161898>"
      ]
     },
     "metadata": {},
     "output_type": "display_data"
    }
   ],
   "source": [
    "fig, axes = plt.subplots(2,3)\n",
    "ax0,ax1,ax2,ax3,ax4,ax5 = axes.ravel()\n",
    "ax0.set_title('胸围', fontproperties='SimHei', fontsize=14)\n",
    "ax1.set_title('下胸围', fontproperties='SimHei', fontsize=14)\n",
    "ax2.set_title('腰围', fontproperties='SimHei', fontsize=14)\n",
    "ax3.set_title('上臀围', fontproperties='SimHei', fontsize=14)\n",
    "ax4.set_title('中臀围', fontproperties='SimHei', fontsize=14)\n",
    "\n",
    "ax0.set_xlabel('身高', fontsize=14)\n",
    "ax1.set_xlabel('身高', fontsize=14)\n",
    "ax2.set_xlabel('身高', fontsize=14)\n",
    "ax3.set_xlabel('身高', fontsize=14)\n",
    "ax4.set_xlabel('身高', fontsize=14)\n",
    "\n",
    "ax0.plot(sort_height.height,sort_height.chest)\n",
    "ax1.plot(sort_height.height,sort_height.lower_chest)\n",
    "ax2.plot(sort_height.height,sort_height.waist)\n",
    "ax3.plot(sort_height.height,sort_height.shoulder)\n",
    "ax4.plot(sort_height.height,sort_height.middle_butt)\n",
    "fig.subplots_adjust(hspace=0.6)\n",
    "fig.subplots_adjust(wspace=0.6)\n",
    "# plt.title('Male Heights')\n",
    "plt.show()"
   ]
  },
  {
   "cell_type": "code",
   "execution_count": 10,
   "metadata": {
    "scrolled": true
   },
   "outputs": [
    {
     "name": "stdout",
     "output_type": "stream",
     "text": [
      "回归系数： [ 0.5335689]\n",
      "回归截距： -3.20494699647\n",
      "回归检验： [ 87.50176678  82.16607774  76.83038869]\n"
     ]
    }
   ],
   "source": [
    "# 一元线性回归\n",
    "length = len(sort_height.chest)\n",
    "datasets_X = np.array(sort_height.height).reshape([length,1])\n",
    "datasets_Y = np.array(sort_height.chest)\n",
    "\n",
    "linreg = LinearRegression()\n",
    "linreg.fit(datasets_X,datasets_Y )\n",
    "\n",
    "X_pred = np.array([170,160,150]).reshape([-1,1])\n",
    "y_pred = linreg.predict(X_pred)\n",
    "print(\"回归系数：\",linreg.coef_)\n",
    "print(\"回归截距：\",linreg.intercept_ )\n",
    "print(\"回归检验：\", y_pred)"
   ]
  },
  {
   "cell_type": "code",
   "execution_count": 66,
   "metadata": {
    "collapsed": true
   },
   "outputs": [],
   "source": [
    "# 一元线性回归函数\n",
    "def figure_linear(x,y,name):\n",
    "    length = len(x)\n",
    "    datasets_X = np.array(x).reshape([length,1])\n",
    "    datasets_Y = np.array(y)\n",
    "\n",
    "    linreg = LinearRegression()\n",
    "    linreg.fit(datasets_X,datasets_Y )\n",
    "\n",
    "    y_pred = linreg.predict(75)\n",
    "    print(name,\"回归系数：\",linreg.coef_,\" 回归截距：\",linreg.intercept_,\"回归检验：\", y_pred)\n",
    "    \n",
    "    minX = min(datasets_X)\n",
    "    maxX = max(datasets_X)\n",
    "    X = np.arange(minX,maxX).reshape([-1,1])\n",
    "\n",
    "    plt.scatter(datasets_X, datasets_Y, color = 'red')\n",
    "    plt.plot(X, linear.predict(X), color = 'blue')"
   ]
  },
  {
   "cell_type": "code",
   "execution_count": 53,
   "metadata": {
    "collapsed": true
   },
   "outputs": [],
   "source": [
    " # 一元线性回归并作图函数\n",
    "def figure_linear(x,y,name):\n",
    "    length = len(x)\n",
    "    datasets_X = np.array(x).reshape([length,1])\n",
    "    datasets_Y = np.array(y)\n",
    "\n",
    "    linreg = LinearRegression()\n",
    "    linreg.fit(datasets_X,datasets_Y )\n",
    "\n",
    "    y_pred = linreg.predict(75)\n",
    "    print(name,\"回归系数：\",linreg.coef_,\" 回归截距：\",linreg.intercept_,\"回归检验：\", y_pred)\n",
    "    minX = min(datasets_X)\n",
    "    maxX = max(datasets_X)\n",
    "    X = np.arange(minX,maxX).reshape([-1,1])\n",
    "\n",
    "    # 图像中显示\n",
    "    plt.title('胸围', fontproperties='SimHei', fontsize=14)\n",
    "    plt.xlabel('身高', fontsize=14)\n",
    "    plt.plot(datasets_X, datasets_Y, color = 'red')\n",
    "    plt.plot(X, linreg.predict(X), color = 'blue')\n",
    "    plt.show()"
   ]
  },
  {
   "cell_type": "code",
   "execution_count": 54,
   "metadata": {},
   "outputs": [
    {
     "name": "stdout",
     "output_type": "stream",
     "text": [
      "胸围 回归系数： [ 0.5335689]  回归截距： -3.20494699647 回归检验： [ 36.81272085]\n"
     ]
    },
    {
     "data": {
      "image/png": "[encoded data removed]",
      "text/plain": [
       "<matplotlib.figure.Figure at 0x1d868c6b240>"
      ]
     },
     "metadata": {},
     "output_type": "display_data"
    }
   ],
   "source": [
    "figure_linear(sort_height.height,sort_height.chest,\"胸围\")"
   ]
  },
  {
   "cell_type": "code",
   "execution_count": null,
   "metadata": {
    "collapsed": true
   },
   "outputs": [],
   "source": [
    "# 一元线性回归并预测函数函数\n",
    "def figure_linear(x,y,name):\n",
    "    length = len(x)\n",
    "    datasets_X = np.array(x).reshape([length,1])\n",
    "    datasets_Y = np.array(y)\n",
    "\n",
    "    linreg = LinearRegression()\n",
    "    linreg.fit(datasets_X,datasets_Y )\n",
    "\n",
    "    y_pred = linreg.predict(75)\n",
    "    print(name,\"回归系数：\",linreg.coef_,\" 回归截距：\",linreg.intercept_,\"回归检验：\", y_pred)"
   ]
  },
  {
   "cell_type": "code",
   "execution_count": 22,
   "metadata": {
    "collapsed": true
   },
   "outputs": [],
   "source": [
    "# 预测类\n",
    "class Predict():\n",
    "    def __init__(self):\n",
    "        self.features = ['chest', 'lower_chest', 'waist', 'upper_butt','middle_butt']\n",
    "        self.names = [\"胸围\", \"下胸围\", \"腰围\", \"上臀围\", \"中臀围\"]\n",
    "        self.coef = dict()\n",
    "        self.max = dict()\n",
    "    def figure_linear(self,x,y,feature,name):\n",
    "        self.features.append(feature)\n",
    "        length = len(x)\n",
    "        datasets_X = np.array(x).reshape([length,1])\n",
    "        datasets_Y = np.array(y)\n",
    "\n",
    "        linreg = LinearRegression()\n",
    "        linreg.fit(datasets_X,datasets_Y )\n",
    "        self.coef[feature] = linreg\n",
    "        \n",
    "        print(name,\"回归系数：\",linreg.coef_,\" 回归截距：\",linreg.intercept_)\n",
    "\n",
    "    \"\"\"\n",
    "    根据工作表和标准身材计算出本表中所有人的身材得分\n",
    "    \"\"\"\n",
    "    def get_score(self,wb,before):\n",
    "        heights = np.array(wb.height).reshape([-1,1])\n",
    "        score_sum = 0\n",
    "        \n",
    "        for i in range(5):\n",
    "            feature = self.features[i]\n",
    "            X_pred = self.coef[feature].predict(heights)\n",
    "            delta = np.abs(X_pred - wb[feature])\n",
    "            if before:\n",
    "                self.max[feature] = feature_max = np.max(delta) * 1.33\n",
    "            else:\n",
    "                feature_max = self.max[feature]\n",
    "            score_sum  = score_sum + (1 - delta / feature_max) * 20\n",
    "            \n",
    "        return score_sum \n",
    "    \"\"\"\n",
    "    主生成模型函数，利用沙漏型身材来生成最佳的模型，以\n",
    "    身高为因变量来实现对各身材指标的预测\n",
    "    \"\"\"\n",
    "    def create_model(self,wb):\n",
    "        sort_wb = wb.sort_values('height')\n",
    "        for i in range(5):\n",
    "            feature = self.features[i]\n",
    "            x = sort_wb['height']\n",
    "            y = sort_wb[feature]\n",
    "            name = self.names[i]\n",
    "            self.figure_linear(x,y,feature,name)"
   ]
  },
  {
   "cell_type": "code",
   "execution_count": 15,
   "metadata": {
    "scrolled": false
   },
   "outputs": [
    {
     "name": "stdout",
     "output_type": "stream",
     "text": [
      "胸围 回归系数： [ 0.5335689]  回归截距： -3.20494699647\n",
      "下胸围 回归系数： [ 0.40989399]  回归截距： 3.39222614841\n",
      "腰围 回归系数： [ 0.38162544]  回归截距： 7.65253239105\n",
      "上臀围 回归系数： [ 0.46289753]  回归截距： -1.05418138987\n",
      "中臀围 回归系数： [ 0.51590106]  回归截距： 4.16607773852\n"
     ]
    }
   ],
   "source": [
    "test_pred = Predict()\n",
    "test_pred.create_model(wb)"
   ]
  },
  {
   "cell_type": "code",
   "execution_count": 16,
   "metadata": {
    "collapsed": true
   },
   "outputs": [
    {
     "data": {
      "text/plain": [
       "0     70.274086\n",
       "1     68.033198\n",
       "2     71.258750\n",
       "3     68.480313\n",
       "4     61.168841\n",
       "5     60.958082\n",
       "6     58.159096\n",
       "7     51.659079\n",
       "8     65.028090\n",
       "9     63.863456\n",
       "10    50.889832\n",
       "11    43.221047\n",
       "12    41.298758\n",
       "13    41.609453\n",
       "14    51.435271\n",
       "15    50.696100\n",
       "16    52.830014\n",
       "17    42.563293\n",
       "18    39.897065\n",
       "19    43.968403\n",
       "20    51.435271\n",
       "21    47.839745\n",
       "22    47.608574\n",
       "23    37.194315\n",
       "24    87.376269\n",
       "25    92.329687\n",
       "26    87.649350\n",
       "27    88.997137\n",
       "28    93.033601\n",
       "29    83.101767\n",
       "30    84.725624\n",
       "31    77.861042\n",
       "32    66.296577\n",
       "33    72.036778\n",
       "34    92.247516\n",
       "35    73.614686\n",
       "dtype: float64"
      ]
     },
     "execution_count": 16,
     "metadata": {},
     "output_type": "execute_result"
    }
   ],
   "source": [
    "test_pred.get_score(before,True)"
   ]
  },
  {
   "cell_type": "code",
   "execution_count": 17,
   "metadata": {
    "collapsed": true
   },
   "outputs": [
    {
     "data": {
      "text/plain": [
       "0     98.123323\n",
       "1     98.361128\n",
       "2     98.624758\n",
       "3     98.706590\n",
       "4     98.153772\n",
       "5     97.890163\n",
       "6     98.388593\n",
       "7     97.038864\n",
       "8     96.979640\n",
       "9     97.268705\n",
       "10    92.340709\n",
       "11    80.305259\n",
       "12    97.679282\n",
       "13    99.331281\n",
       "14    98.812076\n",
       "15    98.261764\n",
       "16    98.791935\n",
       "17    98.842351\n",
       "18    98.646535\n",
       "19    98.109785\n",
       "20    98.812076\n",
       "21    96.290983\n",
       "22    98.824959\n",
       "23    98.814842\n",
       "24    97.353871\n",
       "25    97.950175\n",
       "26    98.412635\n",
       "27    98.843556\n",
       "28    99.177336\n",
       "29    96.674181\n",
       "30    97.326112\n",
       "31    96.523967\n",
       "32    96.560374\n",
       "33    96.568640\n",
       "34    98.589936\n",
       "35    95.045530\n",
       "dtype: float64"
      ]
     },
     "execution_count": 17,
     "metadata": {},
     "output_type": "execute_result"
    }
   ],
   "source": [
    "test_pred.get_score(after,False)"
   ]
  },
  {
   "cell_type": "code",
   "execution_count": 99,
   "metadata": {
    "scrolled": true
   },
   "outputs": [
    {
     "data": {
      "image/png": "[encoded data removed]",
      "text/plain": [
       "<matplotlib.figure.Figure at 0x1d868df5f98>"
      ]
     },
     "metadata": {},
     "output_type": "display_data"
    }
   ],
   "source": [
    "before_score = test_pred.get_score(before,True)\n",
    "after_score = test_pred.get_score(after,False)\n",
    "delta_score = after_score - before_score\n",
    "X = np.arange(len(before_score)).reshape([-1,1])\n",
    "\n",
    "# 图像中显示\n",
    "plt.ylabel('得分', fontproperties='SimHei', fontsize=14)\n",
    "plt.xlabel('编号', fontsize=14)\n",
    "plt.plot(X, after_score, color = 'blue',label='训练后')\n",
    "plt.plot(X, before_score, color = 'red',ls='--',label='训练前')\n",
    "plt.vlines(12, 40,100, colors = \"green\", linestyles = \"dotted\")\n",
    "plt.vlines(24, 40,100, colors = \"green\", linestyles = \"dotted\")\n",
    "plt.title('苹果       梨       报纸')\n",
    "plt.legend()\n",
    "plt.show()\n"
   ]
  },
  {
   "cell_type": "code",
   "execution_count": 24,
   "metadata": {},
   "outputs": [
    {
     "data": {
      "text/plain": [
       "SVC(C=1.0, cache_size=200, class_weight=None, coef0=0.0,\n",
       "  decision_function_shape='ovr', degree=3, gamma=0.7, kernel='linear',\n",
       "  max_iter=-1, probability=True, random_state=None, shrinking=True,\n",
       "  tol=0.001, verbose=False)"
      ]
     },
     "execution_count": 24,
     "metadata": {},
     "output_type": "execute_result"
    }
   ],
   "source": [
    "# 使用SVM对身材进行分类\n",
    "features = ['height','chest', 'lower_chest', 'waist', 'upper_butt','middle_butt']\n",
    "X = complete.loc[:, features]# 训练完成，执行测试\n",
    "\n",
    "# linear核函数的ACC\n",
    "#metrics.accuracy_score(y_test, y_pred_\n",
    "y = complete.type\n",
    "X_train, X_test, y_train, y_test = train_test_split(X, y, random_state=0,test_size=0.33)\n",
    "clf_linear = svm.SVC(kernel='linear', gamma=0.7, C=1.0, probability=True)\n",
    "clf_linear.fit(X_train, y_train)"
   ]
  },
  {
   "cell_type": "code",
   "execution_count": 25,
   "metadata": {},
   "outputs": [
    {
     "data": {
      "text/plain": [
       "1.0"
      ]
     },
     "execution_count": 25,
     "metadata": {},
     "output_type": "execute_result"
    }
   ],
   "source": [
    "# 训练完成，执行测试\n",
    "y_pred_class = clf_linear.predict(X_test)\n",
    "# linear核函数的ACC\n",
    "metrics.accuracy_score(y_test, y_pred_class)"
   ]
  },
  {
   "cell_type": "code",
   "execution_count": 26,
   "metadata": {},
   "outputs": [
    {
     "data": {
      "text/plain": [
       "array(['paper', 'paper', 'hourglass', 'hourglass', 'hourglass',\n",
       "       'hourglass', 'hourglass'], dtype=object)"
      ]
     },
     "execution_count": 26,
     "metadata": {},
     "output_type": "execute_result"
    }
   ],
   "source": [
    " clf_linear.predict(complete.loc[34:40,features])"
   ]
  },
  {
   "cell_type": "markdown",
   "metadata": {},
   "source": [
    "## 假设检验 是否有效\n",
    "### 第一步 提出假设\n",
    "$ H_0 : \\mu = 0 \\quad(没有效果)\\quad H_1 : \\mu > 0 \\quad(有效果） $ \n",
    "### 第二步 计算检验统计量的值\n",
    "#### 由样本得出：\n",
    "$ \\bar X = \\frac{X_1 + \\cdots X_n} {n} \\quad S^2 = \\frac{1}{n-1}\\sum_{i=1}^n(X_i - \\bar X)^2 $  \n",
    "\n",
    "$t_0 = \\frac{\\bar X - \\mu_0}{s/ \\sqrt n}$\n",
    "### 第三步  \n",
    "计算P值 决策是否拒绝原假设  \n",
    "\n",
    "$ P < 0.01 \\quad 拒绝原假设 训练有效$  \n",
    "$ P > 0.01 \\quad 接受原假设 训练无效$  \n",
    "### 结论  \n",
    "最终P_value=8.1264754699280525e-14 远小于显著性水平  \n",
    "顾拒绝原假设，训练有效"
   ]
  },
  {
   "cell_type": "code",
   "execution_count": 102,
   "metadata": {},
   "outputs": [
    {
     "name": "stdout",
     "output_type": "stream",
     "text": [
      "t 值:  11.861655486316225 \n",
      " 检验结果 Ttest_1sampResult(statistic=11.861655486316227, pvalue=8.1264754699280525e-14)\n"
     ]
    }
   ],
   "source": [
    "n = len(delta_score)\n",
    "t = (np.mean(delta_score) - 0) / np.std(delta_score,ddof=1) * n**0.5\n",
    "print('t 值: ', t, '\\n', '检验结果',stats.ttest_1samp(delta_score, 0))"
   ]
  },
  {
   "cell_type": "code",
   "execution_count": 80,
   "metadata": {},
   "outputs": [
    {
     "data": {
      "text/plain": [
       "{'a':      动作       名称    组数            负荷  时间      备注\n",
       " 0   动作一    肩部灵活性     4            木棍   5    肩部训练\n",
       " 1   动作二     坐姿推肩     6       20RM*20   7    肩部训练\n",
       " 2   动作三     高位下拉     6    25RM*20/25   8    肩部训练\n",
       " 3   动作四     坐姿划船     6    15RM*13/15   7    肩部训练\n",
       " 4   动作五       快走     1    速度9-10km/h  40    肩部训练\n",
       " 5   动作一     山羊挺身     5         自重*15   5    背部训练\n",
       " 6   动作二     俯身划船     6    15RM*12/15  10    背部训练\n",
       " 7   动作三       硬拉     6    25RM*20/25   8    背部训练\n",
       " 8   动作四     水平后展     5    15RM*12/15   7    背部训练\n",
       " 9   动作五       快走     1    速度9-10km/h  40    背部训练\n",
       " 10  动作一  侧支撑静力支撑  8L/R        自重*30”   5  核心腰腹训练\n",
       " 11  动作二   俯身爬行移动     6         自重*5米   5  核心腰腹训练\n",
       " 12  动作三     仰撑平板     3        自重*60秒   4  核心腰腹训练\n",
       " 13  动作四     俯撑平板     3        自重*90”   5  核心腰腹训练\n",
       " 14  动过五       卷腹     3    15RM*12/15   5  核心腰腹训练\n",
       " 15  动作六       卷腹     3    25RM*22/25   8  核心腰腹训练\n",
       " 16  动作七   负重站姿转体  6L/R    25RM*22/25  10  核心腰腹训练\n",
       " 17  动作八       有氧     1  心率130-150次/分  50  核心腰腹训练}"
      ]
     },
     "execution_count": 80,
     "metadata": {},
     "output_type": "execute_result"
    }
   ],
   "source": [
    "{'a':apple_plan}"
   ]
  },
  {
   "cell_type": "code",
   "execution_count": 88,
   "metadata": {},
   "outputs": [],
   "source": [
    "# 创建规划类\n",
    "class Plan():\n",
    "    \"\"\"\n",
    "    代用：\n",
    "    , pear_plan, paper_plan\n",
    "    \"\"\"\n",
    "    def __init__(self, apple_plan):\n",
    "        self.features = ['chest', 'lower_chest', 'waist', 'upper_butt','middle_butt']\n",
    "        self.names = [\"胸围\", \"下胸围\", \"腰围\", \"上臀围\", \"中臀围\"]\n",
    "        self.type = ['apple','pear','paper','hourglass']\n",
    "        self.plans = {'apple':apple_plan}\n",
    "        self.coef = {'a':'b'}\n",
    "        self.max = dict()\n",
    "        self.plan = dict()\n",
    "    \"\"\"\n",
    "    输入：训练集\n",
    "    输出储存：模型\n",
    "    \"\"\"\n",
    "    def create_classifier(self,wb):\n",
    "        X = wb.loc[:, self.features]# 训练完成，执行测试\n",
    "\n",
    "        # linear核函数的ACC\n",
    "        y = wb.type\n",
    "        X_train, X_test, y_train, y_test = train_test_split(X, y, random_state=0,test_size=0.33)\n",
    "        clf_linear = svm.SVC(kernel='linear', gamma=0.7, C=1.0, probability=True)\n",
    "        clf_linear.fit(X_train, y_train)\n",
    "        self.classifier = clf_linear\n",
    "        \n",
    "        return \n",
    "\n",
    "    \"\"\"\n",
    "    输入：身材数据\n",
    "    输出：类型\n",
    "    \"\"\"\n",
    "    def get_type(self,data):\n",
    "        Type = self.classifier.predict(data)\n",
    "        return Type\n",
    "    \n",
    "    \"\"\"\n",
    "    输入：类型，身材数据\n",
    "    输出：身材计划\n",
    "    \"\"\"\n",
    "    def get_plan(self, data):\n",
    "        Type = self.classifier.predict(data)\n",
    "#         for i in Type:\n",
    "#             return self.plan[Type]\n",
    "        return self.plans[Type[0]]"
   ]
  },
  {
   "cell_type": "code",
   "execution_count": 89,
   "metadata": {
    "collapsed": true
   },
   "outputs": [],
   "source": [
    "plan_test = Plan(apple_plan)"
   ]
  },
  {
   "cell_type": "code",
   "execution_count": 90,
   "metadata": {},
   "outputs": [],
   "source": [
    "plan_test.create_classifier(complete)"
   ]
  },
  {
   "cell_type": "code",
   "execution_count": 91,
   "metadata": {},
   "outputs": [
    {
     "data": {
      "text/plain": [
       "array(['apple', 'apple'], dtype=object)"
      ]
     },
     "execution_count": 91,
     "metadata": {},
     "output_type": "execute_result"
    }
   ],
   "source": [
    "plan_test.get_type(complete.loc[0:1,plan_test.features])"
   ]
  },
  {
   "cell_type": "code",
   "execution_count": 92,
   "metadata": {
    "scrolled": true
   },
   "outputs": [
    {
     "data": {
      "text/html": [
       "<div>\n",
       "<style>\n",
       "    .dataframe thead tr:only-child th {\n",
       "        text-align: right;\n",
       "    }\n",
       "\n",
       "    .dataframe thead th {\n",
       "        text-align: left;\n",
       "    }\n",
       "\n",
       "    .dataframe tbody tr th {\n",
       "        vertical-align: top;\n",
       "    }\n",
       "</style>\n",
       "<table border=\"1\" class=\"dataframe\">\n",
       "  <thead>\n",
       "    <tr style=\"text-align: right;\">\n",
       "      <th></th>\n",
       "      <th>动作</th>\n",
       "      <th>名称</th>\n",
       "      <th>组数</th>\n",
       "      <th>负荷</th>\n",
       "      <th>时间</th>\n",
       "      <th>备注</th>\n",
       "    </tr>\n",
       "  </thead>\n",
       "  <tbody>\n",
       "    <tr>\n",
       "      <th>0</th>\n",
       "      <td>动作一</td>\n",
       "      <td>肩部灵活性</td>\n",
       "      <td>4</td>\n",
       "      <td>木棍</td>\n",
       "      <td>5</td>\n",
       "      <td>肩部训练</td>\n",
       "    </tr>\n",
       "    <tr>\n",
       "      <th>1</th>\n",
       "      <td>动作二</td>\n",
       "      <td>坐姿推肩</td>\n",
       "      <td>6</td>\n",
       "      <td>20RM*20</td>\n",
       "      <td>7</td>\n",
       "      <td>肩部训练</td>\n",
       "    </tr>\n",
       "    <tr>\n",
       "      <th>2</th>\n",
       "      <td>动作三</td>\n",
       "      <td>高位下拉</td>\n",
       "      <td>6</td>\n",
       "      <td>25RM*20/25</td>\n",
       "      <td>8</td>\n",
       "      <td>肩部训练</td>\n",
       "    </tr>\n",
       "    <tr>\n",
       "      <th>3</th>\n",
       "      <td>动作四</td>\n",
       "      <td>坐姿划船</td>\n",
       "      <td>6</td>\n",
       "      <td>15RM*13/15</td>\n",
       "      <td>7</td>\n",
       "      <td>肩部训练</td>\n",
       "    </tr>\n",
       "    <tr>\n",
       "      <th>4</th>\n",
       "      <td>动作五</td>\n",
       "      <td>快走</td>\n",
       "      <td>1</td>\n",
       "      <td>速度9-10km/h</td>\n",
       "      <td>40</td>\n",
       "      <td>肩部训练</td>\n",
       "    </tr>\n",
       "    <tr>\n",
       "      <th>5</th>\n",
       "      <td>动作一</td>\n",
       "      <td>山羊挺身</td>\n",
       "      <td>5</td>\n",
       "      <td>自重*15</td>\n",
       "      <td>5</td>\n",
       "      <td>背部训练</td>\n",
       "    </tr>\n",
       "    <tr>\n",
       "      <th>6</th>\n",
       "      <td>动作二</td>\n",
       "      <td>俯身划船</td>\n",
       "      <td>6</td>\n",
       "      <td>15RM*12/15</td>\n",
       "      <td>10</td>\n",
       "      <td>背部训练</td>\n",
       "    </tr>\n",
       "    <tr>\n",
       "      <th>7</th>\n",
       "      <td>动作三</td>\n",
       "      <td>硬拉</td>\n",
       "      <td>6</td>\n",
       "      <td>25RM*20/25</td>\n",
       "      <td>8</td>\n",
       "      <td>背部训练</td>\n",
       "    </tr>\n",
       "    <tr>\n",
       "      <th>8</th>\n",
       "      <td>动作四</td>\n",
       "      <td>水平后展</td>\n",
       "      <td>5</td>\n",
       "      <td>15RM*12/15</td>\n",
       "      <td>7</td>\n",
       "      <td>背部训练</td>\n",
       "    </tr>\n",
       "    <tr>\n",
       "      <th>9</th>\n",
       "      <td>动作五</td>\n",
       "      <td>快走</td>\n",
       "      <td>1</td>\n",
       "      <td>速度9-10km/h</td>\n",
       "      <td>40</td>\n",
       "      <td>背部训练</td>\n",
       "    </tr>\n",
       "    <tr>\n",
       "      <th>10</th>\n",
       "      <td>动作一</td>\n",
       "      <td>侧支撑静力支撑</td>\n",
       "      <td>8L/R</td>\n",
       "      <td>自重*30”</td>\n",
       "      <td>5</td>\n",
       "      <td>核心腰腹训练</td>\n",
       "    </tr>\n",
       "    <tr>\n",
       "      <th>11</th>\n",
       "      <td>动作二</td>\n",
       "      <td>俯身爬行移动</td>\n",
       "      <td>6</td>\n",
       "      <td>自重*5米</td>\n",
       "      <td>5</td>\n",
       "      <td>核心腰腹训练</td>\n",
       "    </tr>\n",
       "    <tr>\n",
       "      <th>12</th>\n",
       "      <td>动作三</td>\n",
       "      <td>仰撑平板</td>\n",
       "      <td>3</td>\n",
       "      <td>自重*60秒</td>\n",
       "      <td>4</td>\n",
       "      <td>核心腰腹训练</td>\n",
       "    </tr>\n",
       "    <tr>\n",
       "      <th>13</th>\n",
       "      <td>动作四</td>\n",
       "      <td>俯撑平板</td>\n",
       "      <td>3</td>\n",
       "      <td>自重*90”</td>\n",
       "      <td>5</td>\n",
       "      <td>核心腰腹训练</td>\n",
       "    </tr>\n",
       "    <tr>\n",
       "      <th>14</th>\n",
       "      <td>动过五</td>\n",
       "      <td>卷腹</td>\n",
       "      <td>3</td>\n",
       "      <td>15RM*12/15</td>\n",
       "      <td>5</td>\n",
       "      <td>核心腰腹训练</td>\n",
       "    </tr>\n",
       "    <tr>\n",
       "      <th>15</th>\n",
       "      <td>动作六</td>\n",
       "      <td>卷腹</td>\n",
       "      <td>3</td>\n",
       "      <td>25RM*22/25</td>\n",
       "      <td>8</td>\n",
       "      <td>核心腰腹训练</td>\n",
       "    </tr>\n",
       "    <tr>\n",
       "      <th>16</th>\n",
       "      <td>动作七</td>\n",
       "      <td>负重站姿转体</td>\n",
       "      <td>6L/R</td>\n",
       "      <td>25RM*22/25</td>\n",
       "      <td>10</td>\n",
       "      <td>核心腰腹训练</td>\n",
       "    </tr>\n",
       "    <tr>\n",
       "      <th>17</th>\n",
       "      <td>动作八</td>\n",
       "      <td>有氧</td>\n",
       "      <td>1</td>\n",
       "      <td>心率130-150次/分</td>\n",
       "      <td>50</td>\n",
       "      <td>核心腰腹训练</td>\n",
       "    </tr>\n",
       "  </tbody>\n",
       "</table>\n",
       "</div>"
      ],
      "text/plain": [
       "     动作       名称    组数            负荷  时间      备注\n",
       "0   动作一    肩部灵活性     4            木棍   5    肩部训练\n",
       "1   动作二     坐姿推肩     6       20RM*20   7    肩部训练\n",
       "2   动作三     高位下拉     6    25RM*20/25   8    肩部训练\n",
       "3   动作四     坐姿划船     6    15RM*13/15   7    肩部训练\n",
       "4   动作五       快走     1    速度9-10km/h  40    肩部训练\n",
       "5   动作一     山羊挺身     5         自重*15   5    背部训练\n",
       "6   动作二     俯身划船     6    15RM*12/15  10    背部训练\n",
       "7   动作三       硬拉     6    25RM*20/25   8    背部训练\n",
       "8   动作四     水平后展     5    15RM*12/15   7    背部训练\n",
       "9   动作五       快走     1    速度9-10km/h  40    背部训练\n",
       "10  动作一  侧支撑静力支撑  8L/R        自重*30”   5  核心腰腹训练\n",
       "11  动作二   俯身爬行移动     6         自重*5米   5  核心腰腹训练\n",
       "12  动作三     仰撑平板     3        自重*60秒   4  核心腰腹训练\n",
       "13  动作四     俯撑平板     3        自重*90”   5  核心腰腹训练\n",
       "14  动过五       卷腹     3    15RM*12/15   5  核心腰腹训练\n",
       "15  动作六       卷腹     3    25RM*22/25   8  核心腰腹训练\n",
       "16  动作七   负重站姿转体  6L/R    25RM*22/25  10  核心腰腹训练\n",
       "17  动作八       有氧     1  心率130-150次/分  50  核心腰腹训练"
      ]
     },
     "execution_count": 92,
     "metadata": {},
     "output_type": "execute_result"
    }
   ],
   "source": [
    "plan_test.get_plan(complete.loc[0:1,plan_test.features])"
   ]
  }
 ],
 "metadata": {
  "kernelspec": {
   "display_name": "Python 3",
   "language": "python",
   "name": "python3"
  },
  "language_info": {
   "codemirror_mode": {
    "name": "ipython",
    "version": 3
   },
   "file_extension": ".py",
   "mimetype": "text/x-python",
   "name": "python",
   "nbconvert_exporter": "python",
   "pygments_lexer": "ipython3",
   "version": "3.6.3"
  }
 },
 "nbformat": 4,
 "nbformat_minor": 2
}
