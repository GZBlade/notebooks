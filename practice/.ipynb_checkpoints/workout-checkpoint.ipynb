{
 "cells": [
  {
   "cell_type": "code",
   "execution_count": 30,
   "metadata": {
    "collapsed": true
   },
   "outputs": [],
   "source": [
    "import pandas as pd\n",
    "import numpy as np\n",
    "import matplotlib.pyplot as plt\n",
    "import matplotlib\n",
    "import sklearn\n",
    "import sklearn.preprocessing\n",
    "from sklearn import metrics\n",
    "from sklearn.linear_model import LinearRegression\n",
    "matplotlib.rcParams['font.family']='SimHei'"
   ]
  },
  {
   "cell_type": "code",
   "execution_count": 6,
   "metadata": {
    "scrolled": false
   },
   "outputs": [
    {
     "data": {
      "text/html": [
       "<div>\n",
       "<style>\n",
       "    .dataframe thead tr:only-child th {\n",
       "        text-align: right;\n",
       "    }\n",
       "\n",
       "    .dataframe thead th {\n",
       "        text-align: left;\n",
       "    }\n",
       "\n",
       "    .dataframe tbody tr th {\n",
       "        vertical-align: top;\n",
       "    }\n",
       "</style>\n",
       "<table border=\"1\" class=\"dataframe\">\n",
       "  <thead>\n",
       "    <tr style=\"text-align: right;\">\n",
       "      <th></th>\n",
       "      <th>id</th>\n",
       "      <th>height</th>\n",
       "      <th>chest</th>\n",
       "      <th>lower_chest</th>\n",
       "      <th>waist</th>\n",
       "      <th>shoulder</th>\n",
       "      <th>middle_butt</th>\n",
       "    </tr>\n",
       "  </thead>\n",
       "  <tbody>\n",
       "    <tr>\n",
       "      <th>0</th>\n",
       "      <td>1</td>\n",
       "      <td>163</td>\n",
       "      <td>83</td>\n",
       "      <td>70</td>\n",
       "      <td>70</td>\n",
       "      <td>74</td>\n",
       "      <td>88</td>\n",
       "    </tr>\n",
       "    <tr>\n",
       "      <th>1</th>\n",
       "      <td>2</td>\n",
       "      <td>158</td>\n",
       "      <td>81</td>\n",
       "      <td>68</td>\n",
       "      <td>68</td>\n",
       "      <td>72</td>\n",
       "      <td>86</td>\n",
       "    </tr>\n",
       "    <tr>\n",
       "      <th>2</th>\n",
       "      <td>3</td>\n",
       "      <td>165</td>\n",
       "      <td>85</td>\n",
       "      <td>71</td>\n",
       "      <td>70</td>\n",
       "      <td>75</td>\n",
       "      <td>89</td>\n",
       "    </tr>\n",
       "    <tr>\n",
       "      <th>3</th>\n",
       "      <td>4</td>\n",
       "      <td>170</td>\n",
       "      <td>88</td>\n",
       "      <td>73</td>\n",
       "      <td>73</td>\n",
       "      <td>78</td>\n",
       "      <td>92</td>\n",
       "    </tr>\n",
       "    <tr>\n",
       "      <th>4</th>\n",
       "      <td>5</td>\n",
       "      <td>164</td>\n",
       "      <td>84</td>\n",
       "      <td>71</td>\n",
       "      <td>70</td>\n",
       "      <td>75</td>\n",
       "      <td>89</td>\n",
       "    </tr>\n",
       "  </tbody>\n",
       "</table>\n",
       "</div>"
      ],
      "text/plain": [
       "   id  height  chest  lower_chest  waist  shoulder  middle_butt\n",
       "0   1     163     83           70     70        74           88\n",
       "1   2     158     81           68     68        72           86\n",
       "2   3     165     85           71     70        75           89\n",
       "3   4     170     88           73     73        78           92\n",
       "4   5     164     84           71     70        75           89"
      ]
     },
     "execution_count": 6,
     "metadata": {},
     "output_type": "execute_result"
    }
   ],
   "source": [
    "wb = pd.read_excel('D:\\\\projects\\\\matlab\\\\datasets\\\\figure.xlsx',sheetname='hourglass')\n",
    "wb.dropna(inplace=True,axis=1)\n",
    "wb.head()"
   ]
  },
  {
   "cell_type": "code",
   "execution_count": 58,
   "metadata": {},
   "outputs": [
    {
     "data": {
      "text/html": [
       "<div>\n",
       "<style>\n",
       "    .dataframe thead tr:only-child th {\n",
       "        text-align: right;\n",
       "    }\n",
       "\n",
       "    .dataframe thead th {\n",
       "        text-align: left;\n",
       "    }\n",
       "\n",
       "    .dataframe tbody tr th {\n",
       "        vertical-align: top;\n",
       "    }\n",
       "</style>\n",
       "<table border=\"1\" class=\"dataframe\">\n",
       "  <thead>\n",
       "    <tr style=\"text-align: right;\">\n",
       "      <th></th>\n",
       "      <th>id</th>\n",
       "      <th>height</th>\n",
       "      <th>chest</th>\n",
       "      <th>lower_chest</th>\n",
       "      <th>waist</th>\n",
       "      <th>shoulder</th>\n",
       "      <th>middle_butt</th>\n",
       "    </tr>\n",
       "  </thead>\n",
       "  <tbody>\n",
       "    <tr>\n",
       "      <th>0</th>\n",
       "      <td>1</td>\n",
       "      <td>154</td>\n",
       "      <td>82</td>\n",
       "      <td>75</td>\n",
       "      <td>76</td>\n",
       "      <td>79</td>\n",
       "      <td>83</td>\n",
       "    </tr>\n",
       "    <tr>\n",
       "      <th>1</th>\n",
       "      <td>2</td>\n",
       "      <td>161</td>\n",
       "      <td>88</td>\n",
       "      <td>78</td>\n",
       "      <td>79</td>\n",
       "      <td>84</td>\n",
       "      <td>87</td>\n",
       "    </tr>\n",
       "    <tr>\n",
       "      <th>2</th>\n",
       "      <td>3</td>\n",
       "      <td>157</td>\n",
       "      <td>84</td>\n",
       "      <td>76</td>\n",
       "      <td>78</td>\n",
       "      <td>79</td>\n",
       "      <td>85</td>\n",
       "    </tr>\n",
       "    <tr>\n",
       "      <th>3</th>\n",
       "      <td>4</td>\n",
       "      <td>165</td>\n",
       "      <td>90</td>\n",
       "      <td>81</td>\n",
       "      <td>80</td>\n",
       "      <td>84</td>\n",
       "      <td>89</td>\n",
       "    </tr>\n",
       "    <tr>\n",
       "      <th>4</th>\n",
       "      <td>5</td>\n",
       "      <td>173</td>\n",
       "      <td>96</td>\n",
       "      <td>87</td>\n",
       "      <td>85</td>\n",
       "      <td>89</td>\n",
       "      <td>94</td>\n",
       "    </tr>\n",
       "  </tbody>\n",
       "</table>\n",
       "</div>"
      ],
      "text/plain": [
       "   id  height  chest  lower_chest  waist  shoulder  middle_butt\n",
       "0   1     154     82           75     76        79           83\n",
       "1   2     161     88           78     79        84           87\n",
       "2   3     157     84           76     78        79           85\n",
       "3   4     165     90           81     80        84           89\n",
       "4   5     173     96           87     85        89           94"
      ]
     },
     "execution_count": 58,
     "metadata": {},
     "output_type": "execute_result"
    }
   ],
   "source": [
    "apple_before = pd.read_excel('D:\\\\projects\\\\matlab\\\\datasets\\\\figure.xlsx',sheetname='apple_before')\n",
    "apple_before.dropna(inplace=True,axis=1)\n",
    "apple_before.head()"
   ]
  },
  {
   "cell_type": "code",
   "execution_count": 12,
   "metadata": {},
   "outputs": [],
   "source": [
    "sort_wb = wb.sort_values('height').copy()"
   ]
  },
  {
   "cell_type": "code",
   "execution_count": 27,
   "metadata": {},
   "outputs": [],
   "source": [
    "sort_chest = wb.sort_values('chest').copy()\n",
    "sort_lower_chest = wb.sort_values('lower_chest').copy()\n",
    "sort_waist = wb.sort_values('waist').copy()\n",
    "sort_shoulder = wb.sort_values('shoulder').copy()\n",
    "sort_middle_butt = wb.sort_values('middle_butt').copy()"
   ]
  },
  {
   "cell_type": "code",
   "execution_count": null,
   "metadata": {
    "collapsed": true
   },
   "outputs": [],
   "source": [
    "height"
   ]
  },
  {
   "cell_type": "code",
   "execution_count": 54,
   "metadata": {},
   "outputs": [
    {
     "data": {
      "image/png": "[encoded data removed]",
      "text/plain": [
       "<matplotlib.figure.Figure at 0x245b9704588>"
      ]
     },
     "metadata": {},
     "output_type": "display_data"
    }
   ],
   "source": [
    "fig, axes = plt.subplots(2,3)\n",
    "ax0,ax1,ax2,ax3,ax4,ax5 = axes.ravel()\n",
    "ax0.set_title('胸围', fontproperties='SimHei', fontsize=14)\n",
    "ax1.set_title('下胸围', fontproperties='SimHei', fontsize=14)\n",
    "ax2.set_title('腰围', fontproperties='SimHei', fontsize=14)\n",
    "ax3.set_title('上臀围', fontproperties='SimHei', fontsize=14)\n",
    "ax4.set_title('中臀围', fontproperties='SimHei', fontsize=14)\n",
    "\n",
    "ax0.set_xlabel('身高', fontsize=14)\n",
    "ax1.set_xlabel('身高', fontsize=14)\n",
    "ax2.set_xlabel('身高', fontsize=14)\n",
    "ax3.set_xlabel('身高', fontsize=14)\n",
    "ax4.set_xlabel('身高', fontsize=14)\n",
    "\n",
    "ax0.plot(sort_chest.height,sort_chest.chest)\n",
    "ax1.plot(sort_lower_chest.height,sort_lower_chest.lower_chest)\n",
    "ax2.plot(sort_waist.height,sort_waist.waist)\n",
    "ax3.plot(sort_shoulder.height,sort_shoulder.shoulder)\n",
    "ax4.plot(sort_middle_butt.height,sort_middle_butt.middle_butt)\n",
    "fig.subplots_adjust(hspace=0.6)\n",
    "fig.subplots_adjust(wspace=0.6)\n",
    "# plt.title('Male Heights')\n",
    "plt.show()"
   ]
  },
  {
   "cell_type": "code",
   "execution_count": 34,
   "metadata": {
    "scrolled": true
   },
   "outputs": [
    {
     "name": "stdout",
     "output_type": "stream",
     "text": [
      "回归系数： [ 1.81927711]\n",
      "回归截距： 10.5903614458\n",
      "回归检验： [ 174.3253012]\n"
     ]
    }
   ],
   "source": [
    "# 一元线性回归\n",
    "length = len(sort_chest.chest)\n",
    "datasets_X = np.array(sort_chest.chest).reshape([length,1])\n",
    "datasets_Y = np.array(sort_chest.height)\n",
    "\n",
    "linreg = LinearRegression()\n",
    "linreg.fit(datasets_X,datasets_Y )\n",
    "\n",
    "y_pred = linreg.predict(90)\n",
    "print(\"回归系数：\",linreg.coef_)\n",
    "print(\"回归截距：\",linreg.intercept_ )\n",
    "print(\"回归检验：\", y_pred)"
   ]
  },
  {
   "cell_type": "code",
   "execution_count": 37,
   "metadata": {},
   "outputs": [],
   "source": [
    "# 一元线性回归函数\n",
    "def figure_linear(x,y,name):\n",
    "    length = len(x)\n",
    "    datasets_X = np.array(x).reshape([length,1])\n",
    "    datasets_Y = np.array(y)\n",
    "\n",
    "    linreg = LinearRegression()\n",
    "    linreg.fit(datasets_X,datasets_Y )\n",
    "\n",
    "    y_pred = linreg.predict(75)\n",
    "    print(name,\"回归系数：\",linreg.coef_,\" 回归截距：\",linreg.intercept_,\"回归检验：\", y_pred)\n",
    "    minX = min(datasets_X)\n",
    "    maxX = max(datasets_X)\n",
    "    X = np.arange(minX,maxX).reshape([-1,1])\n",
    "    plt.scatter(datasets_X, datasets_Y, color = 'red')\n",
    "    plt.plot(X, linear.predict(X), color = 'blue')"
   ]
  },
  {
   "cell_type": "code",
   "execution_count": null,
   "metadata": {
    "collapsed": true
   },
   "outputs": [],
   "source": [
    " # 一元线性回归并作图函数\n",
    "def figure_linear(x,y,name):\n",
    "    length = len(x)\n",
    "    datasets_X = np.array(x).reshape([length,1])\n",
    "    datasets_Y = np.array(y)\n",
    "\n",
    "    linreg = LinearRegression()\n",
    "    linreg.fit(datasets_X,datasets_Y )\n",
    "\n",
    "    y_pred = linreg.predict(75)\n",
    "    print(name,\"回归系数：\",linreg.coef_,\" 回归截距：\",linreg.intercept_,\"回归检验：\", y_pred)\n",
    "    minX = min(datasets_X)\n",
    "    maxX = max(datasets_X)\n",
    "    X = np.arange(minX,maxX).reshape([-1,1])\n",
    "\n",
    "\n",
    "    linear = linear_model.LinearRegression()\n",
    "    linear.fit(datasets_X, datasets_Y)\n",
    "\n",
    "    # 图像中显示\n",
    "    plt.plot(datasets_X, datasets_Y, color = 'red')\n",
    "    plt.plot(X, linear.predict(X), color = 'blue')"
   ]
  },
  {
   "cell_type": "code",
   "execution_count": null,
   "metadata": {
    "collapsed": true
   },
   "outputs": [],
   "source": [
    "# 一元线性回归并预测函数函数\n",
    "def figure_linear(x,y,name):\n",
    "    length = len(x)\n",
    "    datasets_X = np.array(x).reshape([length,1])\n",
    "    datasets_Y = np.array(y)\n",
    "\n",
    "    linreg = LinearRegression()\n",
    "    linreg.fit(datasets_X,datasets_Y )\n",
    "\n",
    "    y_pred = linreg.predict(75)\n",
    "    print(name,\"回归系数：\",linreg.coef_,\" 回归截距：\",linreg.intercept_,\"回归检验：\", y_pred)"
   ]
  },
  {
   "cell_type": "code",
   "execution_count": null,
   "metadata": {
    "collapsed": true
   },
   "outputs": [],
   "source": [
    "# 预测类\n",
    "class Predict(Object):\n",
    "    def __init__(self):\n",
    "        self.fetures = list()\n",
    "        self.coef = dict()\n",
    "    def figure_linear(self,x,y,feture,name):\n",
    "        self.fetures.append(feture)\n",
    "        length = len(x)\n",
    "        datasets_X = np.array(x).reshape([length,1])\n",
    "        datasets_Y = np.array(y)\n",
    "\n",
    "        linreg = LinearRegression()\n",
    "        linreg.fit(datasets_X,datasets_Y )\n",
    "        \n",
    "        self.coef[feture] = [linreg]\n",
    "\n",
    "        #y_pred = linreg.predict(75)\n",
    "        print(name,\"回归系数：\",linreg.coef_,\" 回归截距：\",linreg.intercept_)\n",
    "    def single_estimate(self,x,y):\n",
    "        #\n",
    "        pass\n",
    "    def score(self,wb):\n",
    "        heights = wb.height\n",
    "        for i in range()\n",
    "        standard = wb.\n",
    "    def estimate(self,wb):\n",
    "        points = []\n",
    "        new_point = score(wb)\n",
    "        points.append(new_point)\n",
    "        return points\n",
    "    \n",
    "    def create_model():\n",
    "        pass"
   ]
  },
  {
   "cell_type": "code",
   "execution_count": 50,
   "metadata": {},
   "outputs": [
    {
     "name": "stdout",
     "output_type": "stream",
     "text": [
      "胸围 回归系数： [ 0.5335689]  回归截距： -3.20494699647 回归检验： [ 36.81272085]\n",
      "下胸围 回归系数： [ 0.40989399]  回归截距： 3.39222614841 回归检验： [ 34.13427562]\n",
      "腰围 回归系数： [ 0.38162544]  回归截距： 7.65253239105 回归检验： [ 36.27444052]\n",
      "上臀围 回归系数： [ 0.46289753]  回归截距： -1.05418138987 回归检验： [ 33.6631331]\n",
      "中臀围 回归系数： [ 0.51590106]  回归截距： 4.16607773852 回归检验： [ 42.85865724]\n"
     ]
    }
   ],
   "source": [
    "figure_linear(sort_chest.height,sort_chest.chest,\"胸围\")\n",
    "figure_linear(sort_lower_chest.height,sort_lower_chest.lower_chest,\"下胸围\")\n",
    "figure_linear(sort_waist.height,sort_waist.waist,\"腰围\")\n",
    "figure_linear(sort_shoulder.height,sort_shoulder.shoulder,\"上臀围\")\n",
    "figure_linear(sort_middle_butt.height,sort_middle_butt.middle_butt,\"中臀围\")"
   ]
  },
  {
   "cell_type": "code",
   "execution_count": 56,
   "metadata": {
    "collapsed": true
   },
   "outputs": [],
   "source": [
    "testdic = dict()\n",
    "testdic['xiong'] = [1,3]"
   ]
  },
  {
   "cell_type": "code",
   "execution_count": 57,
   "metadata": {},
   "outputs": [
    {
     "data": {
      "text/plain": [
       "{'xiong': [1, 3]}"
      ]
     },
     "execution_count": 57,
     "metadata": {},
     "output_type": "execute_result"
    }
   ],
   "source": [
    "testdic"
   ]
  }
 ],
 "metadata": {
  "kernelspec": {
   "display_name": "Python 3",
   "language": "python",
   "name": "python3"
  },
  "language_info": {
   "codemirror_mode": {
    "name": "ipython",
    "version": 3
   },
   "file_extension": ".py",
   "mimetype": "text/x-python",
   "name": "python",
   "nbconvert_exporter": "python",
   "pygments_lexer": "ipython3",
   "version": "3.6.1"
  }
 },
 "nbformat": 4,
 "nbformat_minor": 2
}
