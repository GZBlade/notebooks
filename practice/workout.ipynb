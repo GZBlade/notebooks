{
 "cells": [
  {
   "cell_type": "code",
   "execution_count": 18,
   "metadata": {
    "collapsed": true
   },
   "outputs": [],
   "source": [
    "import pandas as pd\n",
    "import numpy as np\n",
    "import matplotlib.pyplot as plt\n",
    "import matplotlib\n",
    "import sklearn\n",
    "import sklearn.preprocessing\n",
    "from sklearn import metrics\n",
    "from sklearn.linear_model import LinearRegression\n",
    "from sklearn import svm\n",
    "from sklearn.model_selection import train_test_split\n",
    "from scipy import stats\n",
    "from scipy.stats import norm\n",
    "matplotlib.rcParams['font.family']='SimHei'"
   ]
  },
  {
   "cell_type": "code",
   "execution_count": 2,
   "metadata": {},
   "outputs": [
    {
     "data": {
      "text/html": [
       "<div>\n",
       "<style>\n",
       "    .dataframe thead tr:only-child th {\n",
       "        text-align: right;\n",
       "    }\n",
       "\n",
       "    .dataframe thead th {\n",
       "        text-align: left;\n",
       "    }\n",
       "\n",
       "    .dataframe tbody tr th {\n",
       "        vertical-align: top;\n",
       "    }\n",
       "</style>\n",
       "<table border=\"1\" class=\"dataframe\">\n",
       "  <thead>\n",
       "    <tr style=\"text-align: right;\">\n",
       "      <th></th>\n",
       "      <th>id</th>\n",
       "      <th>height</th>\n",
       "      <th>chest</th>\n",
       "      <th>lower_chest</th>\n",
       "      <th>waist</th>\n",
       "      <th>upper_butt</th>\n",
       "      <th>middle_butt</th>\n",
       "    </tr>\n",
       "  </thead>\n",
       "  <tbody>\n",
       "    <tr>\n",
       "      <th>0</th>\n",
       "      <td>1</td>\n",
       "      <td>163</td>\n",
       "      <td>83</td>\n",
       "      <td>70</td>\n",
       "      <td>70</td>\n",
       "      <td>74</td>\n",
       "      <td>88</td>\n",
       "    </tr>\n",
       "    <tr>\n",
       "      <th>1</th>\n",
       "      <td>2</td>\n",
       "      <td>158</td>\n",
       "      <td>81</td>\n",
       "      <td>68</td>\n",
       "      <td>68</td>\n",
       "      <td>72</td>\n",
       "      <td>86</td>\n",
       "    </tr>\n",
       "    <tr>\n",
       "      <th>2</th>\n",
       "      <td>3</td>\n",
       "      <td>165</td>\n",
       "      <td>85</td>\n",
       "      <td>71</td>\n",
       "      <td>70</td>\n",
       "      <td>75</td>\n",
       "      <td>89</td>\n",
       "    </tr>\n",
       "    <tr>\n",
       "      <th>3</th>\n",
       "      <td>4</td>\n",
       "      <td>170</td>\n",
       "      <td>88</td>\n",
       "      <td>73</td>\n",
       "      <td>73</td>\n",
       "      <td>78</td>\n",
       "      <td>92</td>\n",
       "    </tr>\n",
       "    <tr>\n",
       "      <th>4</th>\n",
       "      <td>5</td>\n",
       "      <td>164</td>\n",
       "      <td>84</td>\n",
       "      <td>71</td>\n",
       "      <td>70</td>\n",
       "      <td>75</td>\n",
       "      <td>89</td>\n",
       "    </tr>\n",
       "  </tbody>\n",
       "</table>\n",
       "</div>"
      ],
      "text/plain": [
       "   id  height  chest  lower_chest  waist  upper_butt  middle_butt\n",
       "0   1     163     83           70     70          74           88\n",
       "1   2     158     81           68     68          72           86\n",
       "2   3     165     85           71     70          75           89\n",
       "3   4     170     88           73     73          78           92\n",
       "4   5     164     84           71     70          75           89"
      ]
     },
     "execution_count": 2,
     "metadata": {},
     "output_type": "execute_result"
    }
   ],
   "source": [
    "wb = pd.read_excel('..\\\\datasets\\\\figure.xlsx',sheetname='hourglass')\n",
    "wb.dropna(inplace=True,axis=1)\n",
    "wb.head()"
   ]
  },
  {
   "cell_type": "code",
   "execution_count": 3,
   "metadata": {},
   "outputs": [
    {
     "data": {
      "text/html": [
       "<div>\n",
       "<style>\n",
       "    .dataframe thead tr:only-child th {\n",
       "        text-align: right;\n",
       "    }\n",
       "\n",
       "    .dataframe thead th {\n",
       "        text-align: left;\n",
       "    }\n",
       "\n",
       "    .dataframe tbody tr th {\n",
       "        vertical-align: top;\n",
       "    }\n",
       "</style>\n",
       "<table border=\"1\" class=\"dataframe\">\n",
       "  <thead>\n",
       "    <tr style=\"text-align: right;\">\n",
       "      <th></th>\n",
       "      <th>id</th>\n",
       "      <th>height</th>\n",
       "      <th>chest</th>\n",
       "      <th>lower_chest</th>\n",
       "      <th>waist</th>\n",
       "      <th>upper_butt</th>\n",
       "      <th>middle_butt</th>\n",
       "      <th>type</th>\n",
       "    </tr>\n",
       "  </thead>\n",
       "  <tbody>\n",
       "    <tr>\n",
       "      <th>0</th>\n",
       "      <td>1</td>\n",
       "      <td>154</td>\n",
       "      <td>82</td>\n",
       "      <td>75</td>\n",
       "      <td>76</td>\n",
       "      <td>79</td>\n",
       "      <td>83</td>\n",
       "      <td>apple</td>\n",
       "    </tr>\n",
       "    <tr>\n",
       "      <th>1</th>\n",
       "      <td>2</td>\n",
       "      <td>161</td>\n",
       "      <td>88</td>\n",
       "      <td>78</td>\n",
       "      <td>79</td>\n",
       "      <td>84</td>\n",
       "      <td>87</td>\n",
       "      <td>apple</td>\n",
       "    </tr>\n",
       "    <tr>\n",
       "      <th>2</th>\n",
       "      <td>3</td>\n",
       "      <td>157</td>\n",
       "      <td>84</td>\n",
       "      <td>76</td>\n",
       "      <td>78</td>\n",
       "      <td>79</td>\n",
       "      <td>85</td>\n",
       "      <td>apple</td>\n",
       "    </tr>\n",
       "    <tr>\n",
       "      <th>3</th>\n",
       "      <td>4</td>\n",
       "      <td>165</td>\n",
       "      <td>90</td>\n",
       "      <td>81</td>\n",
       "      <td>80</td>\n",
       "      <td>84</td>\n",
       "      <td>89</td>\n",
       "      <td>apple</td>\n",
       "    </tr>\n",
       "    <tr>\n",
       "      <th>4</th>\n",
       "      <td>5</td>\n",
       "      <td>173</td>\n",
       "      <td>96</td>\n",
       "      <td>87</td>\n",
       "      <td>85</td>\n",
       "      <td>89</td>\n",
       "      <td>94</td>\n",
       "      <td>apple</td>\n",
       "    </tr>\n",
       "  </tbody>\n",
       "</table>\n",
       "</div>"
      ],
      "text/plain": [
       "   id  height  chest  lower_chest  waist  upper_butt  middle_butt   type\n",
       "0   1     154     82           75     76          79           83  apple\n",
       "1   2     161     88           78     79          84           87  apple\n",
       "2   3     157     84           76     78          79           85  apple\n",
       "3   4     165     90           81     80          84           89  apple\n",
       "4   5     173     96           87     85          89           94  apple"
      ]
     },
     "execution_count": 3,
     "metadata": {},
     "output_type": "execute_result"
    }
   ],
   "source": [
    "complete = pd.read_excel('..\\\\datasets\\\\figure.xlsx',sheetname='complete')\n",
    "complete.dropna(inplace=True,axis=1)\n",
    "complete.head()"
   ]
  },
  {
   "cell_type": "code",
   "execution_count": 4,
   "metadata": {},
   "outputs": [
    {
     "data": {
      "text/html": [
       "<div>\n",
       "<style>\n",
       "    .dataframe thead tr:only-child th {\n",
       "        text-align: right;\n",
       "    }\n",
       "\n",
       "    .dataframe thead th {\n",
       "        text-align: left;\n",
       "    }\n",
       "\n",
       "    .dataframe tbody tr th {\n",
       "        vertical-align: top;\n",
       "    }\n",
       "</style>\n",
       "<table border=\"1\" class=\"dataframe\">\n",
       "  <thead>\n",
       "    <tr style=\"text-align: right;\">\n",
       "      <th></th>\n",
       "      <th>id</th>\n",
       "      <th>height</th>\n",
       "      <th>chest</th>\n",
       "      <th>lower_chest</th>\n",
       "      <th>waist</th>\n",
       "      <th>upper_butt</th>\n",
       "      <th>middle_butt</th>\n",
       "      <th>type</th>\n",
       "    </tr>\n",
       "  </thead>\n",
       "  <tbody>\n",
       "    <tr>\n",
       "      <th>0</th>\n",
       "      <td>1</td>\n",
       "      <td>154</td>\n",
       "      <td>82</td>\n",
       "      <td>75</td>\n",
       "      <td>76</td>\n",
       "      <td>79</td>\n",
       "      <td>83</td>\n",
       "      <td>apple</td>\n",
       "    </tr>\n",
       "    <tr>\n",
       "      <th>1</th>\n",
       "      <td>2</td>\n",
       "      <td>161</td>\n",
       "      <td>88</td>\n",
       "      <td>78</td>\n",
       "      <td>79</td>\n",
       "      <td>84</td>\n",
       "      <td>87</td>\n",
       "      <td>apple</td>\n",
       "    </tr>\n",
       "    <tr>\n",
       "      <th>2</th>\n",
       "      <td>3</td>\n",
       "      <td>157</td>\n",
       "      <td>84</td>\n",
       "      <td>76</td>\n",
       "      <td>78</td>\n",
       "      <td>79</td>\n",
       "      <td>85</td>\n",
       "      <td>apple</td>\n",
       "    </tr>\n",
       "    <tr>\n",
       "      <th>3</th>\n",
       "      <td>4</td>\n",
       "      <td>165</td>\n",
       "      <td>90</td>\n",
       "      <td>81</td>\n",
       "      <td>80</td>\n",
       "      <td>84</td>\n",
       "      <td>89</td>\n",
       "      <td>apple</td>\n",
       "    </tr>\n",
       "    <tr>\n",
       "      <th>4</th>\n",
       "      <td>5</td>\n",
       "      <td>173</td>\n",
       "      <td>96</td>\n",
       "      <td>87</td>\n",
       "      <td>85</td>\n",
       "      <td>89</td>\n",
       "      <td>94</td>\n",
       "      <td>apple</td>\n",
       "    </tr>\n",
       "  </tbody>\n",
       "</table>\n",
       "</div>"
      ],
      "text/plain": [
       "   id  height  chest  lower_chest  waist  upper_butt  middle_butt   type\n",
       "0   1     154     82           75     76          79           83  apple\n",
       "1   2     161     88           78     79          84           87  apple\n",
       "2   3     157     84           76     78          79           85  apple\n",
       "3   4     165     90           81     80          84           89  apple\n",
       "4   5     173     96           87     85          89           94  apple"
      ]
     },
     "execution_count": 4,
     "metadata": {},
     "output_type": "execute_result"
    }
   ],
   "source": [
    "# 加载训练前的数据\n",
    "before = pd.read_excel('..\\\\datasets\\\\figure.xlsx',sheetname='before')\n",
    "before.dropna(inplace=True,axis=1)\n",
    "before.head()"
   ]
  },
  {
   "cell_type": "code",
   "execution_count": 5,
   "metadata": {
    "scrolled": true
   },
   "outputs": [
    {
     "data": {
      "text/html": [
       "<div>\n",
       "<style>\n",
       "    .dataframe thead tr:only-child th {\n",
       "        text-align: right;\n",
       "    }\n",
       "\n",
       "    .dataframe thead th {\n",
       "        text-align: left;\n",
       "    }\n",
       "\n",
       "    .dataframe tbody tr th {\n",
       "        vertical-align: top;\n",
       "    }\n",
       "</style>\n",
       "<table border=\"1\" class=\"dataframe\">\n",
       "  <thead>\n",
       "    <tr style=\"text-align: right;\">\n",
       "      <th></th>\n",
       "      <th>id</th>\n",
       "      <th>height</th>\n",
       "      <th>chest</th>\n",
       "      <th>lower_chest</th>\n",
       "      <th>waist</th>\n",
       "      <th>upper_butt</th>\n",
       "      <th>middle_butt</th>\n",
       "      <th>type</th>\n",
       "    </tr>\n",
       "  </thead>\n",
       "  <tbody>\n",
       "    <tr>\n",
       "      <th>0</th>\n",
       "      <td>1</td>\n",
       "      <td>154</td>\n",
       "      <td>79</td>\n",
       "      <td>67</td>\n",
       "      <td>66</td>\n",
       "      <td>70</td>\n",
       "      <td>83</td>\n",
       "      <td>apple</td>\n",
       "    </tr>\n",
       "    <tr>\n",
       "      <th>1</th>\n",
       "      <td>2</td>\n",
       "      <td>161</td>\n",
       "      <td>83</td>\n",
       "      <td>70</td>\n",
       "      <td>69</td>\n",
       "      <td>74</td>\n",
       "      <td>87</td>\n",
       "      <td>apple</td>\n",
       "    </tr>\n",
       "    <tr>\n",
       "      <th>2</th>\n",
       "      <td>3</td>\n",
       "      <td>157</td>\n",
       "      <td>81</td>\n",
       "      <td>68</td>\n",
       "      <td>68</td>\n",
       "      <td>72</td>\n",
       "      <td>85</td>\n",
       "      <td>apple</td>\n",
       "    </tr>\n",
       "    <tr>\n",
       "      <th>3</th>\n",
       "      <td>4</td>\n",
       "      <td>165</td>\n",
       "      <td>85</td>\n",
       "      <td>71</td>\n",
       "      <td>70</td>\n",
       "      <td>75</td>\n",
       "      <td>89</td>\n",
       "      <td>apple</td>\n",
       "    </tr>\n",
       "    <tr>\n",
       "      <th>4</th>\n",
       "      <td>5</td>\n",
       "      <td>173</td>\n",
       "      <td>89</td>\n",
       "      <td>75</td>\n",
       "      <td>74</td>\n",
       "      <td>79</td>\n",
       "      <td>94</td>\n",
       "      <td>apple</td>\n",
       "    </tr>\n",
       "  </tbody>\n",
       "</table>\n",
       "</div>"
      ],
      "text/plain": [
       "   id  height  chest  lower_chest  waist  upper_butt  middle_butt   type\n",
       "0   1     154     79           67     66          70           83  apple\n",
       "1   2     161     83           70     69          74           87  apple\n",
       "2   3     157     81           68     68          72           85  apple\n",
       "3   4     165     85           71     70          75           89  apple\n",
       "4   5     173     89           75     74          79           94  apple"
      ]
     },
     "execution_count": 5,
     "metadata": {},
     "output_type": "execute_result"
    }
   ],
   "source": [
    "# 加载训练后的数据\n",
    "after = pd.read_excel('..\\\\datasets\\\\figure.xlsx',sheetname='after')\n",
    "after.dropna(inplace=True,axis=1)\n",
    "after.head()"
   ]
  },
  {
   "cell_type": "code",
   "execution_count": 6,
   "metadata": {},
   "outputs": [
    {
     "data": {
      "text/html": [
       "<div>\n",
       "<style>\n",
       "    .dataframe thead tr:only-child th {\n",
       "        text-align: right;\n",
       "    }\n",
       "\n",
       "    .dataframe thead th {\n",
       "        text-align: left;\n",
       "    }\n",
       "\n",
       "    .dataframe tbody tr th {\n",
       "        vertical-align: top;\n",
       "    }\n",
       "</style>\n",
       "<table border=\"1\" class=\"dataframe\">\n",
       "  <thead>\n",
       "    <tr style=\"text-align: right;\">\n",
       "      <th></th>\n",
       "      <th>动作</th>\n",
       "      <th>名称</th>\n",
       "      <th>组数</th>\n",
       "      <th>负荷</th>\n",
       "      <th>时间</th>\n",
       "      <th>备注</th>\n",
       "    </tr>\n",
       "  </thead>\n",
       "  <tbody>\n",
       "    <tr>\n",
       "      <th>0</th>\n",
       "      <td>动作一</td>\n",
       "      <td>肩部灵活性</td>\n",
       "      <td>4</td>\n",
       "      <td>木棍</td>\n",
       "      <td>5</td>\n",
       "      <td>肩部训练</td>\n",
       "    </tr>\n",
       "    <tr>\n",
       "      <th>1</th>\n",
       "      <td>动作二</td>\n",
       "      <td>坐姿推肩</td>\n",
       "      <td>6</td>\n",
       "      <td>20RM*20</td>\n",
       "      <td>7</td>\n",
       "      <td>肩部训练</td>\n",
       "    </tr>\n",
       "    <tr>\n",
       "      <th>2</th>\n",
       "      <td>动作三</td>\n",
       "      <td>高位下拉</td>\n",
       "      <td>6</td>\n",
       "      <td>25RM*20/25</td>\n",
       "      <td>8</td>\n",
       "      <td>肩部训练</td>\n",
       "    </tr>\n",
       "    <tr>\n",
       "      <th>3</th>\n",
       "      <td>动作四</td>\n",
       "      <td>坐姿划船</td>\n",
       "      <td>6</td>\n",
       "      <td>15RM*13/15</td>\n",
       "      <td>7</td>\n",
       "      <td>肩部训练</td>\n",
       "    </tr>\n",
       "    <tr>\n",
       "      <th>4</th>\n",
       "      <td>动作五</td>\n",
       "      <td>快走</td>\n",
       "      <td>1</td>\n",
       "      <td>速度9-10km/h</td>\n",
       "      <td>40</td>\n",
       "      <td>肩部训练</td>\n",
       "    </tr>\n",
       "  </tbody>\n",
       "</table>\n",
       "</div>"
      ],
      "text/plain": [
       "    动作     名称 组数          负荷  时间    备注\n",
       "0  动作一  肩部灵活性  4          木棍   5  肩部训练\n",
       "1  动作二   坐姿推肩  6     20RM*20   7  肩部训练\n",
       "2  动作三   高位下拉  6  25RM*20/25   8  肩部训练\n",
       "3  动作四   坐姿划船  6  15RM*13/15   7  肩部训练\n",
       "4  动作五     快走  1  速度9-10km/h  40  肩部训练"
      ]
     },
     "execution_count": 6,
     "metadata": {},
     "output_type": "execute_result"
    }
   ],
   "source": [
    "# 加载苹果型的计划数据\n",
    "apple_plan = pd.read_excel('..\\\\datasets\\\\fit_plan.xlsx',sheetname='apple')\n",
    "apple_plan.dropna(inplace=True,axis=1)\n",
    "apple_plan.head()"
   ]
  },
  {
   "cell_type": "code",
   "execution_count": 7,
   "metadata": {},
   "outputs": [
    {
     "data": {
      "text/html": [
       "<div>\n",
       "<style>\n",
       "    .dataframe thead tr:only-child th {\n",
       "        text-align: right;\n",
       "    }\n",
       "\n",
       "    .dataframe thead th {\n",
       "        text-align: left;\n",
       "    }\n",
       "\n",
       "    .dataframe tbody tr th {\n",
       "        vertical-align: top;\n",
       "    }\n",
       "</style>\n",
       "<table border=\"1\" class=\"dataframe\">\n",
       "  <thead>\n",
       "    <tr style=\"text-align: right;\">\n",
       "      <th></th>\n",
       "      <th>动作</th>\n",
       "      <th>名称</th>\n",
       "      <th>组数</th>\n",
       "      <th>负荷</th>\n",
       "      <th>时间</th>\n",
       "      <th>备注</th>\n",
       "    </tr>\n",
       "  </thead>\n",
       "  <tbody>\n",
       "    <tr>\n",
       "      <th>0</th>\n",
       "      <td>动作一</td>\n",
       "      <td>肩部灵活性</td>\n",
       "      <td>3</td>\n",
       "      <td>木棍</td>\n",
       "      <td>5</td>\n",
       "      <td>肩部手臂训练</td>\n",
       "    </tr>\n",
       "    <tr>\n",
       "      <th>1</th>\n",
       "      <td>动作二</td>\n",
       "      <td>坐姿推肩</td>\n",
       "      <td>5</td>\n",
       "      <td>15RM*12/15</td>\n",
       "      <td>5</td>\n",
       "      <td>肩部手臂训练</td>\n",
       "    </tr>\n",
       "    <tr>\n",
       "      <th>2</th>\n",
       "      <td>动作三</td>\n",
       "      <td>水平后展</td>\n",
       "      <td>3</td>\n",
       "      <td>15RM*12/15</td>\n",
       "      <td>4</td>\n",
       "      <td>肩部手臂训练</td>\n",
       "    </tr>\n",
       "    <tr>\n",
       "      <th>3</th>\n",
       "      <td>动作四</td>\n",
       "      <td>杠铃弯举</td>\n",
       "      <td>3</td>\n",
       "      <td>25RM*22/25</td>\n",
       "      <td>5</td>\n",
       "      <td>肩部手臂训练</td>\n",
       "    </tr>\n",
       "    <tr>\n",
       "      <th>4</th>\n",
       "      <td>动过五</td>\n",
       "      <td>绳索下压</td>\n",
       "      <td>3</td>\n",
       "      <td>25RM*22/25</td>\n",
       "      <td>5</td>\n",
       "      <td>肩部手臂训练</td>\n",
       "    </tr>\n",
       "  </tbody>\n",
       "</table>\n",
       "</div>"
      ],
      "text/plain": [
       "    动作     名称 组数          负荷  时间      备注\n",
       "0  动作一  肩部灵活性  3          木棍   5  肩部手臂训练\n",
       "1  动作二   坐姿推肩  5  15RM*12/15   5  肩部手臂训练\n",
       "2  动作三   水平后展  3  15RM*12/15   4  肩部手臂训练\n",
       "3  动作四   杠铃弯举  3  25RM*22/25   5  肩部手臂训练\n",
       "4  动过五   绳索下压  3  25RM*22/25   5  肩部手臂训练"
      ]
     },
     "execution_count": 7,
     "metadata": {},
     "output_type": "execute_result"
    }
   ],
   "source": [
    "# 加载梨型的计划数据\n",
    "pear_plan = pd.read_excel('..\\\\datasets\\\\fit_plan.xlsx',sheetname='pear')\n",
    "pear_plan.dropna(inplace=True,axis=1)\n",
    "pear_plan.head()"
   ]
  },
  {
   "cell_type": "code",
   "execution_count": 8,
   "metadata": {},
   "outputs": [
    {
     "data": {
      "text/html": [
       "<div>\n",
       "<style>\n",
       "    .dataframe thead tr:only-child th {\n",
       "        text-align: right;\n",
       "    }\n",
       "\n",
       "    .dataframe thead th {\n",
       "        text-align: left;\n",
       "    }\n",
       "\n",
       "    .dataframe tbody tr th {\n",
       "        vertical-align: top;\n",
       "    }\n",
       "</style>\n",
       "<table border=\"1\" class=\"dataframe\">\n",
       "  <thead>\n",
       "    <tr style=\"text-align: right;\">\n",
       "      <th></th>\n",
       "      <th>动作</th>\n",
       "      <th>名称</th>\n",
       "      <th>组数</th>\n",
       "      <th>负荷</th>\n",
       "      <th>时间</th>\n",
       "      <th>备注</th>\n",
       "    </tr>\n",
       "  </thead>\n",
       "  <tbody>\n",
       "    <tr>\n",
       "      <th>0</th>\n",
       "      <td>动作一</td>\n",
       "      <td>肩部灵活性</td>\n",
       "      <td>4</td>\n",
       "      <td>木棍（无）</td>\n",
       "      <td>3</td>\n",
       "      <td>肩部背部训练</td>\n",
       "    </tr>\n",
       "    <tr>\n",
       "      <th>1</th>\n",
       "      <td>动作二</td>\n",
       "      <td>坐姿推肩</td>\n",
       "      <td>6</td>\n",
       "      <td>10RM*8</td>\n",
       "      <td>5</td>\n",
       "      <td>肩部背部训练</td>\n",
       "    </tr>\n",
       "    <tr>\n",
       "      <th>2</th>\n",
       "      <td>动作三</td>\n",
       "      <td>高位下拉</td>\n",
       "      <td>6</td>\n",
       "      <td>10RM*8/10</td>\n",
       "      <td>5</td>\n",
       "      <td>肩部背部训练</td>\n",
       "    </tr>\n",
       "    <tr>\n",
       "      <th>3</th>\n",
       "      <td>动作四</td>\n",
       "      <td>坐姿划船</td>\n",
       "      <td>6</td>\n",
       "      <td>10RM*8/10</td>\n",
       "      <td>7</td>\n",
       "      <td>肩部背部训练</td>\n",
       "    </tr>\n",
       "    <tr>\n",
       "      <th>4</th>\n",
       "      <td>动作五</td>\n",
       "      <td>硬拉</td>\n",
       "      <td>4</td>\n",
       "      <td>5RM*3/5</td>\n",
       "      <td>5</td>\n",
       "      <td>肩部背部训练</td>\n",
       "    </tr>\n",
       "  </tbody>\n",
       "</table>\n",
       "</div>"
      ],
      "text/plain": [
       "    动作     名称  组数         负荷  时间      备注\n",
       "0  动作一  肩部灵活性   4      木棍（无）   3  肩部背部训练\n",
       "1  动作二   坐姿推肩   6     10RM*8   5  肩部背部训练\n",
       "2  动作三   高位下拉   6  10RM*8/10   5  肩部背部训练\n",
       "3  动作四   坐姿划船   6  10RM*8/10   7  肩部背部训练\n",
       "4  动作五     硬拉   4    5RM*3/5   5  肩部背部训练"
      ]
     },
     "execution_count": 8,
     "metadata": {},
     "output_type": "execute_result"
    }
   ],
   "source": [
    "# 加载报纸型的计划数据\n",
    "paper_plan = pd.read_excel('..\\\\datasets\\\\fit_plan.xlsx',sheetname='paper')\n",
    "paper_plan.dropna(inplace=True,axis=1)\n",
    "paper_plan.head()"
   ]
  },
  {
   "cell_type": "code",
   "execution_count": 35,
   "metadata": {
    "collapsed": true
   },
   "outputs": [],
   "source": [
    "sort_height = wb.sort_values('height').copy()"
   ]
  },
  {
   "cell_type": "code",
   "execution_count": 27,
   "metadata": {
    "collapsed": true
   },
   "outputs": [],
   "source": [
    "sort_chest = wb.sort_values('chest').copy()\n",
    "sort_lower_chest = wb.sort_values('lower_chest').copy()\n",
    "sort_waist = wb.sort_values('waist').copy()\n",
    "sort_shoulder = wb.sort_values('shoulder').copy()\n",
    "sort_middle_butt = wb.sort_values('middle_butt').copy()"
   ]
  },
  {
   "cell_type": "code",
   "execution_count": 45,
   "metadata": {},
   "outputs": [
    {
     "data": {
      "image/png": "[encoded data removed]",
      "text/plain": [
       "<matplotlib.figure.Figure at 0x23926a43940>"
      ]
     },
     "metadata": {},
     "output_type": "display_data"
    }
   ],
   "source": [
    "fig, axes = plt.subplots(2,3)\n",
    "ax0,ax1,ax2,ax3,ax4,ax5 = axes.ravel()\n",
    "ax0.set_ylabel('胸围', fontproperties='SimHei', fontsize=14)\n",
    "ax1.set_ylabel('下胸围', fontproperties='SimHei', fontsize=14)\n",
    "ax2.set_ylabel('腰围', fontproperties='SimHei', fontsize=14)\n",
    "ax3.set_ylabel('上臀围', fontproperties='SimHei', fontsize=14)\n",
    "ax4.set_ylabel('中臀围', fontproperties='SimHei', fontsize=14)\n",
    "\n",
    "ax0.set_xlabel('身高', fontsize=14)\n",
    "ax1.set_xlabel('身高', fontsize=14)\n",
    "ax2.set_xlabel('身高', fontsize=14)\n",
    "ax3.set_xlabel('身高', fontsize=14)\n",
    "ax4.set_xlabel('身高', fontsize=14)\n",
    "\n",
    "# ax0.plot(sort_height.height,sort_height.chest)\n",
    "# ax1.plot(sort_height.height,sort_height.lower_chest)\n",
    "# ax2.plot(sort_height.height,sort_height.waist)\n",
    "# ax3.plot(sort_height.height,sort_height.upper_butt)\n",
    "# ax4.plot(sort_height.height,sort_height.middle_butt)\n",
    "ax0.scatter(sort_height.height,sort_height.chest)\n",
    "ax1.scatter(sort_height.height,sort_height.lower_chest)\n",
    "ax2.scatter(sort_height.height,sort_height.waist)\n",
    "ax3.scatter(sort_height.height,sort_height.upper_butt)\n",
    "ax4.scatter(sort_height.height,sort_height.middle_butt)\n",
    "fig.subplots_adjust(hspace=0.6)\n",
    "fig.subplots_adjust(wspace=0.6)\n",
    "# plt.title('Male Heights')\n",
    "plt.show()"
   ]
  },
  {
   "cell_type": "code",
   "execution_count": 10,
   "metadata": {
    "scrolled": true
   },
   "outputs": [
    {
     "name": "stdout",
     "output_type": "stream",
     "text": [
      "回归系数： [ 0.5335689]\n",
      "回归截距： -3.20494699647\n",
      "回归检验： [ 87.50176678  82.16607774  76.83038869]\n"
     ]
    }
   ],
   "source": [
    "# 一元线性回归\n",
    "length = len(sort_height.chest)\n",
    "datasets_X = np.array(sort_height.height).reshape([length,1])\n",
    "datasets_Y = np.array(sort_height.chest)\n",
    "\n",
    "linreg = LinearRegression()\n",
    "linreg.fit(datasets_X,datasets_Y )\n",
    "\n",
    "X_pred = np.array([170,160,150]).reshape([-1,1])\n",
    "y_pred = linreg.predict(X_pred)\n",
    "print(\"回归系数：\",linreg.coef_)\n",
    "print(\"回归截距：\",linreg.intercept_ )\n",
    "print(\"回归检验：\", y_pred)"
   ]
  },
  {
   "cell_type": "code",
   "execution_count": 66,
   "metadata": {
    "collapsed": true
   },
   "outputs": [],
   "source": [
    "# 一元线性回归函数\n",
    "def figure_linear(x,y,name):\n",
    "    length = len(x)\n",
    "    datasets_X = np.array(x).reshape([length,1])\n",
    "    datasets_Y = np.array(y)\n",
    "\n",
    "    linreg = LinearRegression()\n",
    "    linreg.fit(datasets_X,datasets_Y )\n",
    "\n",
    "    y_pred = linreg.predict(75)\n",
    "    print(name,\"回归系数：\",linreg.coef_,\" 回归截距：\",linreg.intercept_,\"回归检验：\", y_pred)\n",
    "    \n",
    "    minX = min(datasets_X)\n",
    "    maxX = max(datasets_X)\n",
    "    X = np.arange(minX,maxX).reshape([-1,1])\n",
    "\n",
    "    plt.scatter(datasets_X, datasets_Y, color = 'red')\n",
    "    plt.plot(X, linear.predict(X), color = 'blue')"
   ]
  },
  {
   "cell_type": "code",
   "execution_count": 40,
   "metadata": {
    "collapsed": true
   },
   "outputs": [],
   "source": [
    " # 一元线性回归并作图函数\n",
    "def figure_linear(x,y,name):\n",
    "    length = len(x)\n",
    "    datasets_X = np.array(x).reshape([length,1])\n",
    "    datasets_Y = np.array(y)\n",
    "\n",
    "    linreg = LinearRegression()\n",
    "    linreg.fit(datasets_X,datasets_Y )\n",
    "\n",
    "    y_pred = linreg.predict(75)\n",
    "    print(name,\"回归系数：\",linreg.coef_,\" 回归截距：\",linreg.intercept_,\"回归检验：\", y_pred)\n",
    "    minX = min(datasets_X)\n",
    "    maxX = max(datasets_X)\n",
    "    X = np.arange(minX,maxX).reshape([-1,1])\n",
    "\n",
    "    # 图像中显示\n",
    "    plt.ylabel('胸围', fontproperties='SimHei', fontsize=14)\n",
    "    plt.xlabel('身高', fontsize=14)\n",
    "    plt.scatter(datasets_X, datasets_Y, color = 'red')\n",
    "#     plt.plot(datasets_X, datasets_Y, color = 'red')\n",
    "    plt.plot(X, linreg.predict(X), color = 'blue')\n",
    "    plt.show()"
   ]
  },
  {
   "cell_type": "code",
   "execution_count": 41,
   "metadata": {},
   "outputs": [
    {
     "name": "stdout",
     "output_type": "stream",
     "text": [
      "胸围 回归系数： [ 0.5335689]  回归截距： -3.20494699647 回归检验： [ 36.81272085]\n"
     ]
    },
    {
     "data": {
      "image/png": "[encoded data removed]",
      "text/plain": [
       "<matplotlib.figure.Figure at 0x23926abec88>"
      ]
     },
     "metadata": {},
     "output_type": "display_data"
    }
   ],
   "source": [
    "figure_linear(sort_height.height,sort_height.chest,\"胸围\")"
   ]
  },
  {
   "cell_type": "code",
   "execution_count": null,
   "metadata": {
    "collapsed": true
   },
   "outputs": [],
   "source": [
    "# 一元线性回归并预测函数函数\n",
    "def figure_linear(x,y,name):\n",
    "    length = len(x)\n",
    "    datasets_X = np.array(x).reshape([length,1])\n",
    "    datasets_Y = np.array(y)\n",
    "\n",
    "    linreg = LinearRegression()\n",
    "    linreg.fit(datasets_X,datasets_Y )\n",
    "\n",
    "    y_pred = linreg.predict(75)\n",
    "    print(name,\"回归系数：\",linreg.coef_,\" 回归截距：\",linreg.intercept_,\"回归检验：\", y_pred)"
   ]
  },
  {
   "cell_type": "code",
   "execution_count": 9,
   "metadata": {
    "collapsed": true
   },
   "outputs": [],
   "source": [
    "# 预测类\n",
    "class Predict():\n",
    "    def __init__(self):\n",
    "        self.features = ['chest', 'lower_chest', 'waist', 'upper_butt','middle_butt']\n",
    "        self.names = [\"胸围\", \"下胸围\", \"腰围\", \"上臀围\", \"中臀围\"]\n",
    "        self.coef = dict()\n",
    "        self.max = dict()\n",
    "    def figure_linear(self,x,y,feature,name):\n",
    "        #self.features.append(feature)\n",
    "        length = len(x)\n",
    "        datasets_X = np.array(x).reshape([length,1])\n",
    "        datasets_Y = np.array(y)\n",
    "\n",
    "        linreg = LinearRegression()\n",
    "        linreg.fit(datasets_X,datasets_Y )\n",
    "        self.coef[feature] = linreg\n",
    "        \n",
    "        print(name,\"回归系数：\",linreg.coef_,\" 回归截距：\",linreg.intercept_)\n",
    "\n",
    "    \"\"\"\n",
    "    根据工作表和标准身材计算出本表中所有人的身材得分\n",
    "    \"\"\"\n",
    "    def get_score(self,wb,before):\n",
    "        heights = np.array(wb.height).reshape([-1,1])\n",
    "        score_sum = 0\n",
    "        \n",
    "        for i in range(5):\n",
    "            feature = self.features[i]\n",
    "            X_pred = self.coef[feature].predict(heights)\n",
    "            delta = np.abs(X_pred - wb[feature])\n",
    "            if before:\n",
    "                self.max[feature] = feature_max = np.max(delta) * 1.33\n",
    "            else:\n",
    "                feature_max = self.max[feature]\n",
    "            score_sum  = score_sum + (1 - delta / feature_max) * 20\n",
    "            \n",
    "        return score_sum \n",
    "    \"\"\"\n",
    "    主生成模型函数，利用沙漏型身材来生成最佳的模型，以\n",
    "    身高为因变量来实现对各身材指标的预测\n",
    "    \"\"\"\n",
    "    def create_model(self,wb):\n",
    "        sort_wb = wb.sort_values('height')\n",
    "        for i in range(5):\n",
    "            feature = self.features[i]\n",
    "            x = sort_wb['height']\n",
    "            y = sort_wb[feature]\n",
    "            name = self.names[i]\n",
    "            self.figure_linear(x,y,feature,name)"
   ]
  },
  {
   "cell_type": "code",
   "execution_count": 10,
   "metadata": {
    "scrolled": false
   },
   "outputs": [
    {
     "name": "stdout",
     "output_type": "stream",
     "text": [
      "胸围 回归系数： [ 0.5335689]  回归截距： -3.20494699647\n",
      "下胸围 回归系数： [ 0.40989399]  回归截距： 3.39222614841\n",
      "腰围 回归系数： [ 0.38162544]  回归截距： 7.65253239105\n",
      "上臀围 回归系数： [ 0.46289753]  回归截距： -1.05418138987\n",
      "中臀围 回归系数： [ 0.51590106]  回归截距： 4.16607773852\n"
     ]
    }
   ],
   "source": [
    "test_pred = Predict()\n",
    "test_pred.create_model(wb)"
   ]
  },
  {
   "cell_type": "code",
   "execution_count": 11,
   "metadata": {},
   "outputs": [
    {
     "data": {
      "text/plain": [
       "0     77.649689\n",
       "1     75.964811\n",
       "2     78.390037\n",
       "3     76.300987\n",
       "4     70.803640\n",
       "5     70.645174\n",
       "6     68.540674\n",
       "7     63.653443\n",
       "8     73.705331\n",
       "9     72.829667\n",
       "10    63.075062\n",
       "11    57.309058\n",
       "12    55.863728\n",
       "13    56.097333\n",
       "14    63.485166\n",
       "15    62.929399\n",
       "16    64.533845\n",
       "17    56.814506\n",
       "18    54.809823\n",
       "19    57.870979\n",
       "20    63.485166\n",
       "21    60.781763\n",
       "22    60.607950\n",
       "23    52.777681\n",
       "24    90.508473\n",
       "25    94.232848\n",
       "26    90.713797\n",
       "27    91.727171\n",
       "28    94.762106\n",
       "29    87.294562\n",
       "30    88.515506\n",
       "31    83.354167\n",
       "32    74.659081\n",
       "33    78.975021\n",
       "34    94.171065\n",
       "35    80.161418\n",
       "dtype: float64"
      ]
     },
     "execution_count": 11,
     "metadata": {},
     "output_type": "execute_result"
    }
   ],
   "source": [
    "test_pred.get_score(before,True)"
   ]
  },
  {
   "cell_type": "code",
   "execution_count": 12,
   "metadata": {
    "collapsed": true
   },
   "outputs": [
    {
     "data": {
      "text/plain": [
       "0     98.588965\n",
       "1     98.767766\n",
       "2     98.965983\n",
       "3     99.027511\n",
       "4     98.611859\n",
       "5     98.413656\n",
       "6     98.788416\n",
       "7     97.773582\n",
       "8     97.729052\n",
       "9     97.946395\n",
       "10    94.241134\n",
       "11    85.191924\n",
       "12    98.255099\n",
       "13    99.497204\n",
       "14    99.106824\n",
       "15    98.693056\n",
       "16    99.091680\n",
       "17    99.129587\n",
       "18    98.982357\n",
       "19    98.578786\n",
       "20    99.106824\n",
       "21    97.211265\n",
       "22    99.116510\n",
       "23    99.108904\n",
       "24    98.010429\n",
       "25    98.458778\n",
       "26    98.806492\n",
       "27    99.130493\n",
       "28    99.381455\n",
       "29    97.499385\n",
       "30    97.989558\n",
       "31    97.386441\n",
       "32    97.413815\n",
       "33    97.420030\n",
       "34    98.939801\n",
       "35    96.274834\n",
       "dtype: float64"
      ]
     },
     "execution_count": 12,
     "metadata": {},
     "output_type": "execute_result"
    }
   ],
   "source": [
    "test_pred.get_score(after,False)"
   ]
  },
  {
   "cell_type": "code",
   "execution_count": 13,
   "metadata": {
    "scrolled": false
   },
   "outputs": [
    {
     "data": {
      "image/png": "[encoded data removed]",
      "text/plain": [
       "<matplotlib.figure.Figure at 0x23924bda2b0>"
      ]
     },
     "metadata": {},
     "output_type": "display_data"
    }
   ],
   "source": [
    "before_score = test_pred.get_score(before,True)\n",
    "after_score = test_pred.get_score(after,False)\n",
    "delta_score = after_score - before_score\n",
    "X = np.arange(len(before_score)).reshape([-1,1])\n",
    "\n",
    "# 图像中显示\n",
    "plt.ylabel('得分', fontproperties='SimHei', fontsize=14)\n",
    "plt.xlabel('编号', fontsize=14)\n",
    "plt.plot(X, after_score, color = 'blue',label='训练后')\n",
    "plt.plot(X, before_score, color = 'red',ls='--',label='训练前')\n",
    "plt.vlines(12, 40,100, colors = \"green\", linestyles = \"dotted\")\n",
    "plt.vlines(24, 40,100, colors = \"green\", linestyles = \"dotted\")\n",
    "plt.title('苹果       梨       报纸')\n",
    "plt.legend()\n",
    "plt.show()\n"
   ]
  },
  {
   "cell_type": "code",
   "execution_count": 32,
   "metadata": {},
   "outputs": [
    {
     "data": {
      "image/png": "[encoded data removed]",
      "text/plain": [
       "<matplotlib.figure.Figure at 0x2392676ce48>"
      ]
     },
     "metadata": {},
     "output_type": "display_data"
    }
   ],
   "source": [
    "plt.scatter(before_score,after_score)\n",
    "plt.show()"
   ]
  },
  {
   "cell_type": "code",
   "execution_count": 29,
   "metadata": {},
   "outputs": [
    {
     "data": {
      "image/png": "[encoded data removed]",
      "text/plain": [
       "<matplotlib.figure.Figure at 0x239266b64e0>"
      ]
     },
     "metadata": {},
     "output_type": "display_data"
    }
   ],
   "source": [
    "# 验证得分差的正态性\n",
    "plt.figure()\n",
    "delta_range = np.arange(-30, 30, 0.01) + np.mean(delta_score)\n",
    "np.arange(np.max(delta_score), np.min(delta_score), 0.01)\n",
    "delta_norm = norm.pdf(delta_range, np.mean(delta_score), np.std(delta_score,ddof=1))\n",
    "plt.hist(delta_score, bins=30, normed=True, histtype='bar')\n",
    "plt.plot(delta_range, delta_norm)\n",
    "plt.show()"
   ]
  },
  {
   "cell_type": "code",
   "execution_count": 15,
   "metadata": {},
   "outputs": [
    {
     "data": {
      "text/plain": [
       "SVC(C=1.0, cache_size=200, class_weight=None, coef0=0.0,\n",
       "  decision_function_shape=None, degree=3, gamma=0.7, kernel='linear',\n",
       "  max_iter=-1, probability=True, random_state=None, shrinking=True,\n",
       "  tol=0.001, verbose=False)"
      ]
     },
     "execution_count": 15,
     "metadata": {},
     "output_type": "execute_result"
    }
   ],
   "source": [
    "# 使用SVM对身材进行分类\n",
    "features = ['height','chest', 'lower_chest', 'waist', 'upper_butt','middle_butt']\n",
    "X = complete.loc[:, features]# 训练完成，执行测试\n",
    "\n",
    "# linear核函数的ACC\n",
    "#metrics.accuracy_score(y_test, y_pred_\n",
    "y = complete.type\n",
    "X_train, X_test, y_train, y_test = train_test_split(X, y, random_state=0,test_size=0.33)\n",
    "clf_linear = svm.SVC(kernel='linear', gamma=0.7, C=1.0, probability=True)\n",
    "clf_linear.fit(X_train, y_train)"
   ]
  },
  {
   "cell_type": "code",
   "execution_count": 16,
   "metadata": {
    "scrolled": true
   },
   "outputs": [
    {
     "data": {
      "text/plain": [
       "1.0"
      ]
     },
     "execution_count": 16,
     "metadata": {},
     "output_type": "execute_result"
    }
   ],
   "source": [
    "# 训练完成，执行测试\n",
    "y_pred_class = clf_linear.predict(X_test)\n",
    "# linear核函数的ACC\n",
    "metrics.accuracy_score(y_test, y_pred_class)"
   ]
  },
  {
   "cell_type": "code",
   "execution_count": 77,
   "metadata": {},
   "outputs": [
    {
     "data": {
      "text/plain": [
       "164"
      ]
     },
     "execution_count": 77,
     "metadata": {},
     "output_type": "execute_result"
    }
   ],
   "source": [
    "np.array(complete.loc[40,features]).reshape([1,6])[0,0]"
   ]
  },
  {
   "cell_type": "code",
   "execution_count": 34,
   "metadata": {},
   "outputs": [
    {
     "data": {
      "text/plain": [
       "array(['hourglass'], dtype=object)"
      ]
     },
     "execution_count": 34,
     "metadata": {},
     "output_type": "execute_result"
    }
   ],
   "source": [
    "clf_linear.predict(np.array(complete.loc[40,features]).reshape([1,6]))"
   ]
  },
  {
   "cell_type": "code",
   "execution_count": 17,
   "metadata": {},
   "outputs": [
    {
     "data": {
      "text/plain": [
       "array(['paper', 'paper', 'hourglass', 'hourglass', 'hourglass',\n",
       "       'hourglass', 'hourglass'], dtype=object)"
      ]
     },
     "execution_count": 17,
     "metadata": {},
     "output_type": "execute_result"
    }
   ],
   "source": [
    " clf_linear.predict(complete.loc[34:40,features])"
   ]
  },
  {
   "cell_type": "markdown",
   "metadata": {},
   "source": [
    "## 假设检验 是否有效\n",
    "### 第一步 提出假设\n",
    "$ H_0 : \\mu = 0 \\quad(没有效果)\\quad H_1 : \\mu > 0 \\quad(有效果） $ \n",
    "### 第二步 计算检验统计量的值\n",
    "#### 由样本得出：\n",
    "$ \\bar X = \\frac{X_1 + \\cdots X_n} {n} \\quad S^2 = \\frac{1}{n-1}\\sum_{i=1}^n(X_i - \\bar X)^2 $  \n",
    "\n",
    "$t_0 = \\frac{\\bar X - \\mu_0}{s/ \\sqrt n}$\n",
    "### 第三步  \n",
    "计算P值 决策是否拒绝原假设  \n",
    "\n",
    "$ P < 0.01 \\quad 拒绝原假设 训练有效$  \n",
    "$ P > 0.01 \\quad 接受原假设 训练无效$  \n",
    "### 结论  \n",
    "最终P_value=8.1264754699280525e-14 远小于显著性水平  \n",
    "顾拒绝原假设，训练有效"
   ]
  },
  {
   "cell_type": "code",
   "execution_count": 17,
   "metadata": {},
   "outputs": [
    {
     "name": "stdout",
     "output_type": "stream",
     "text": [
      "t 值:  11.861655486316225 \n",
      " 检验结果 Ttest_1sampResult(statistic=4.8890397044327516, pvalue=2.2420987658646683e-05)\n"
     ]
    }
   ],
   "source": [
    "n = len(delta_score)\n",
    "t = (np.mean(delta_score) - 0) / np.std(delta_score,ddof=1) * n**0.5\n",
    "print('t 值: ', t, '\\n', '检验结果',stats.ttest_1samp(delta_score, 15))"
   ]
  },
  {
   "cell_type": "code",
   "execution_count": 80,
   "metadata": {},
   "outputs": [
    {
     "data": {
      "text/plain": [
       "{'a':      动作       名称    组数            负荷  时间      备注\n",
       " 0   动作一    肩部灵活性     4            木棍   5    肩部训练\n",
       " 1   动作二     坐姿推肩     6       20RM*20   7    肩部训练\n",
       " 2   动作三     高位下拉     6    25RM*20/25   8    肩部训练\n",
       " 3   动作四     坐姿划船     6    15RM*13/15   7    肩部训练\n",
       " 4   动作五       快走     1    速度9-10km/h  40    肩部训练\n",
       " 5   动作一     山羊挺身     5         自重*15   5    背部训练\n",
       " 6   动作二     俯身划船     6    15RM*12/15  10    背部训练\n",
       " 7   动作三       硬拉     6    25RM*20/25   8    背部训练\n",
       " 8   动作四     水平后展     5    15RM*12/15   7    背部训练\n",
       " 9   动作五       快走     1    速度9-10km/h  40    背部训练\n",
       " 10  动作一  侧支撑静力支撑  8L/R        自重*30”   5  核心腰腹训练\n",
       " 11  动作二   俯身爬行移动     6         自重*5米   5  核心腰腹训练\n",
       " 12  动作三     仰撑平板     3        自重*60秒   4  核心腰腹训练\n",
       " 13  动作四     俯撑平板     3        自重*90”   5  核心腰腹训练\n",
       " 14  动过五       卷腹     3    15RM*12/15   5  核心腰腹训练\n",
       " 15  动作六       卷腹     3    25RM*22/25   8  核心腰腹训练\n",
       " 16  动作七   负重站姿转体  6L/R    25RM*22/25  10  核心腰腹训练\n",
       " 17  动作八       有氧     1  心率130-150次/分  50  核心腰腹训练}"
      ]
     },
     "execution_count": 80,
     "metadata": {},
     "output_type": "execute_result"
    }
   ],
   "source": [
    "{'a':apple_plan}"
   ]
  },
  {
   "cell_type": "code",
   "execution_count": 194,
   "metadata": {
    "collapsed": true
   },
   "outputs": [],
   "source": [
    "# 创建规划类\n",
    "class Plan(Predict):\n",
    "    \"\"\"\n",
    "\n",
    "    \"\"\"\n",
    "    def __init__(self, apple_plan,pear_plan,paper_plan):\n",
    "        self.features = ['height','chest', 'lower_chest', 'waist', 'upper_butt','middle_butt']\n",
    "        self.names = [\"胸围\", \"下胸围\", \"腰围\", \"上臀围\", \"中臀围\"]\n",
    "        self.ctype = {'apple':'苹果型','pear':'梨形','paper':'报纸型','hourglass':'沙漏型'}\n",
    "        self.type = ['apple','pear','paper','hourglass']\n",
    "        self.plans = {'apple':apple_plan, 'pear':pear_plan, 'paper':paper_plan}\n",
    "        self.coef = dict()\n",
    "        self.max = dict()\n",
    "        self.plan = dict()\n",
    "    \"\"\"\n",
    "    输入：训练集\n",
    "    输出储存：模型\n",
    "    \"\"\"\n",
    "    def create_classifier(self,wb):\n",
    "        X = wb.loc[:, self.features]# 训练完成，执行测试\n",
    "\n",
    "        # linear核函数的ACC\n",
    "        y = wb.type\n",
    "        X_train, X_test, y_train, y_test = train_test_split(X, y, random_state=0,test_size=0.33)\n",
    "        clf_linear = svm.SVC(kernel='linear', gamma=0.7, C=1.0, probability=True)\n",
    "        clf_linear.fit(X_train, y_train)\n",
    "        self.classifier = clf_linear\n",
    "        \n",
    "        return \n",
    "    \"\"\"\n",
    "    输入：身材数据\n",
    "    输出：类型\n",
    "    \"\"\"\n",
    "    def get_type(self,data):\n",
    "        length = len(self.features)\n",
    "        data = np.array(data).reshape([1,length])\n",
    "        Type = self.classifier.predict(data)\n",
    "        return Type  \n",
    "    \"\"\"\n",
    "    输入：训练前列表\n",
    "    输出（存储）：feature max 指标\n",
    "    \"\"\"\n",
    "    def create_feature_max(self, wb):\n",
    "        heights = np.array(wb.height).reshape([-1,1])\n",
    "        score_sum = 0\n",
    "        \n",
    "        for i in range(5):\n",
    "            feature = self.features[i+1]\n",
    "            X_pred = self.coef[feature].predict(heights)\n",
    "            delta = np.abs(X_pred - wb[feature])\n",
    "            self.max[feature] = np.max(delta) * 1.33\n",
    "\n",
    "    \"\"\"\n",
    "    输入：身材数据\n",
    "    输出：得分\n",
    "    \"\"\"       \n",
    "    def get_score(self,data):\n",
    "        heights = data[0,0]\n",
    "        score_sum = 0\n",
    "        \n",
    "        for i in range(5):\n",
    "            feature = self.features[i+1]\n",
    "            X_pred = self.coef[feature].predict(heights)\n",
    "            delta = np.abs(X_pred - data[:,i])\n",
    "            feature_max = self.max[feature]\n",
    "            score_sum  = score_sum + (1 - delta / feature_max) * 20\n",
    "            \n",
    "        return score_sum\n",
    "    \"\"\"\n",
    "    输入：类型，身材数据\n",
    "    输出：身材计划\n",
    "    \"\"\"\n",
    "    def get_plan(self, data):\n",
    "        length = len(self.features)\n",
    "        data = np.array(data).reshape([1,length])\n",
    "        Type = self.classifier.predict(data)[0]\n",
    "        score = self.get_score(data)\n",
    "        print('当前得分:', score)\n",
    "        print('身材类型:', self.ctype[Type])\n",
    "        if (Type != 'hourglass'):\n",
    "            print('训练计划如下所示')\n",
    "            return self.plans[Type]\n",
    "        else: print('Congratulation!!! Keep up the spirit!')\n",
    "    \"\"\"\n",
    "    输入: 当前身材数据\n",
    "    输出：天数\n",
    "    假定获取理想身材需要100天\n",
    "    \"\"\"    \n",
    "    def get_time(self, data):\n",
    "        length = len(self.features)\n",
    "        data = np.array(data).reshape([1,length])\n",
    "        Type = self.classifier.predict(data)[0]\n",
    "        deduct = 100 - self.get_score(data)\n",
    "        shade = 1.33\n",
    "        print('身材类型', self.ctype[Type])\n",
    "        if (Type != 'hourglass'):\n",
    "            days = np.round(deduct[0] * shade)\n",
    "            time = self.plans[Type]['时间'].sum()\n",
    "            hours = np.round(time / 60) * days\n",
    "            print('预测需要坚持 %d 天'%days)\n",
    "            print('预测需要锻炼 %d 小时'%hours )\n",
    "            return  time\n",
    "        else: print('Congratulation!!! Keep up the spirit!')\n",
    "     \n",
    "    \n",
    "    def create_model(self,wb,before):\n",
    "        sort_wb = wb.sort_values('height')\n",
    "        for i in range(5):\n",
    "            feature = self.features[i+1]\n",
    "            x = sort_wb['height']\n",
    "            y = sort_wb[feature]\n",
    "            name = self.names[i]\n",
    "            self.figure_linear(x,y,feature,name)\n",
    "        self.create_feature_max(before)"
   ]
  },
  {
   "cell_type": "code",
   "execution_count": 195,
   "metadata": {
    "collapsed": true
   },
   "outputs": [],
   "source": [
    "# 生成产生计划的模型\n",
    "plan_test = Plan(apple_plan,pear_plan,paper_plan)"
   ]
  },
  {
   "cell_type": "code",
   "execution_count": 196,
   "metadata": {
    "collapsed": true
   },
   "outputs": [],
   "source": [
    "# 建立SVM的身材类型\n",
    "plan_test.create_classifier(complete)"
   ]
  },
  {
   "cell_type": "code",
   "execution_count": 197,
   "metadata": {},
   "outputs": [
    {
     "name": "stdout",
     "output_type": "stream",
     "text": [
      "胸围 回归系数： [ 0.07845159]  回归截距： 76.7963726685\n",
      "下胸围 回归系数： [ 0.49254851]  回归截距： -2.69481675883\n",
      "腰围 回归系数： [ 0.43996626]  回归截距： 6.10653919455\n",
      "上臀围 回归系数： [ 0.38490018]  回归截距： 17.8429562283\n",
      "中臀围 回归系数： [ 0.46864748]  回归截距： 10.8815571594\n"
     ]
    }
   ],
   "source": [
    "# 建立预测模型\n",
    "plan_test.create_model(complete,before)"
   ]
  },
  {
   "cell_type": "code",
   "execution_count": 198,
   "metadata": {},
   "outputs": [
    {
     "data": {
      "text/plain": [
       "array(['apple'], dtype=object)"
      ]
     },
     "execution_count": 198,
     "metadata": {},
     "output_type": "execute_result"
    }
   ],
   "source": [
    "# 获取锻炼的人员进行分类\n",
    "tn = 11\n",
    "plan_test.get_type(complete.loc[tn,plan_test.features])"
   ]
  },
  {
   "cell_type": "code",
   "execution_count": 199,
   "metadata": {},
   "outputs": [
    {
     "name": "stdout",
     "output_type": "stream",
     "text": [
      "身材类型 苹果型\n",
      "预测需要坚持 88 天\n",
      "预测需要锻炼 352 小时\n"
     ]
    },
    {
     "data": {
      "text/plain": [
       "229"
      ]
     },
     "execution_count": 199,
     "metadata": {},
     "output_type": "execute_result"
    }
   ],
   "source": [
    "# 获取预测需要的时间\n",
    "plan_test.get_time(complete.loc[tn,plan_test.features])"
   ]
  },
  {
   "cell_type": "code",
   "execution_count": 200,
   "metadata": {},
   "outputs": [
    {
     "name": "stdout",
     "output_type": "stream",
     "text": [
      "当前得分: [33.492566010742223]\n",
      "身材类型: 苹果型\n",
      "训练计划如下所示\n"
     ]
    },
    {
     "data": {
      "text/html": [
       "<div>\n",
       "<style>\n",
       "    .dataframe thead tr:only-child th {\n",
       "        text-align: right;\n",
       "    }\n",
       "\n",
       "    .dataframe thead th {\n",
       "        text-align: left;\n",
       "    }\n",
       "\n",
       "    .dataframe tbody tr th {\n",
       "        vertical-align: top;\n",
       "    }\n",
       "</style>\n",
       "<table border=\"1\" class=\"dataframe\">\n",
       "  <thead>\n",
       "    <tr style=\"text-align: right;\">\n",
       "      <th></th>\n",
       "      <th>动作</th>\n",
       "      <th>名称</th>\n",
       "      <th>组数</th>\n",
       "      <th>负荷</th>\n",
       "      <th>时间</th>\n",
       "      <th>备注</th>\n",
       "    </tr>\n",
       "  </thead>\n",
       "  <tbody>\n",
       "    <tr>\n",
       "      <th>0</th>\n",
       "      <td>动作一</td>\n",
       "      <td>肩部灵活性</td>\n",
       "      <td>4</td>\n",
       "      <td>木棍</td>\n",
       "      <td>5</td>\n",
       "      <td>肩部训练</td>\n",
       "    </tr>\n",
       "    <tr>\n",
       "      <th>1</th>\n",
       "      <td>动作二</td>\n",
       "      <td>坐姿推肩</td>\n",
       "      <td>6</td>\n",
       "      <td>20RM*20</td>\n",
       "      <td>7</td>\n",
       "      <td>肩部训练</td>\n",
       "    </tr>\n",
       "    <tr>\n",
       "      <th>2</th>\n",
       "      <td>动作三</td>\n",
       "      <td>高位下拉</td>\n",
       "      <td>6</td>\n",
       "      <td>25RM*20/25</td>\n",
       "      <td>8</td>\n",
       "      <td>肩部训练</td>\n",
       "    </tr>\n",
       "    <tr>\n",
       "      <th>3</th>\n",
       "      <td>动作四</td>\n",
       "      <td>坐姿划船</td>\n",
       "      <td>6</td>\n",
       "      <td>15RM*13/15</td>\n",
       "      <td>7</td>\n",
       "      <td>肩部训练</td>\n",
       "    </tr>\n",
       "    <tr>\n",
       "      <th>4</th>\n",
       "      <td>动作五</td>\n",
       "      <td>快走</td>\n",
       "      <td>1</td>\n",
       "      <td>速度9-10km/h</td>\n",
       "      <td>40</td>\n",
       "      <td>肩部训练</td>\n",
       "    </tr>\n",
       "    <tr>\n",
       "      <th>5</th>\n",
       "      <td>动作一</td>\n",
       "      <td>山羊挺身</td>\n",
       "      <td>5</td>\n",
       "      <td>自重*15</td>\n",
       "      <td>5</td>\n",
       "      <td>背部训练</td>\n",
       "    </tr>\n",
       "    <tr>\n",
       "      <th>6</th>\n",
       "      <td>动作二</td>\n",
       "      <td>俯身划船</td>\n",
       "      <td>6</td>\n",
       "      <td>15RM*12/15</td>\n",
       "      <td>10</td>\n",
       "      <td>背部训练</td>\n",
       "    </tr>\n",
       "    <tr>\n",
       "      <th>7</th>\n",
       "      <td>动作三</td>\n",
       "      <td>硬拉</td>\n",
       "      <td>6</td>\n",
       "      <td>25RM*20/25</td>\n",
       "      <td>8</td>\n",
       "      <td>背部训练</td>\n",
       "    </tr>\n",
       "    <tr>\n",
       "      <th>8</th>\n",
       "      <td>动作四</td>\n",
       "      <td>水平后展</td>\n",
       "      <td>5</td>\n",
       "      <td>15RM*12/15</td>\n",
       "      <td>7</td>\n",
       "      <td>背部训练</td>\n",
       "    </tr>\n",
       "    <tr>\n",
       "      <th>9</th>\n",
       "      <td>动作五</td>\n",
       "      <td>快走</td>\n",
       "      <td>1</td>\n",
       "      <td>速度9-10km/h</td>\n",
       "      <td>40</td>\n",
       "      <td>背部训练</td>\n",
       "    </tr>\n",
       "    <tr>\n",
       "      <th>10</th>\n",
       "      <td>动作一</td>\n",
       "      <td>侧支撑静力支撑</td>\n",
       "      <td>8L/R</td>\n",
       "      <td>自重*30”</td>\n",
       "      <td>5</td>\n",
       "      <td>核心腰腹训练</td>\n",
       "    </tr>\n",
       "    <tr>\n",
       "      <th>11</th>\n",
       "      <td>动作二</td>\n",
       "      <td>俯身爬行移动</td>\n",
       "      <td>6</td>\n",
       "      <td>自重*5米</td>\n",
       "      <td>5</td>\n",
       "      <td>核心腰腹训练</td>\n",
       "    </tr>\n",
       "    <tr>\n",
       "      <th>12</th>\n",
       "      <td>动作三</td>\n",
       "      <td>仰撑平板</td>\n",
       "      <td>3</td>\n",
       "      <td>自重*60秒</td>\n",
       "      <td>4</td>\n",
       "      <td>核心腰腹训练</td>\n",
       "    </tr>\n",
       "    <tr>\n",
       "      <th>13</th>\n",
       "      <td>动作四</td>\n",
       "      <td>俯撑平板</td>\n",
       "      <td>3</td>\n",
       "      <td>自重*90”</td>\n",
       "      <td>5</td>\n",
       "      <td>核心腰腹训练</td>\n",
       "    </tr>\n",
       "    <tr>\n",
       "      <th>14</th>\n",
       "      <td>动过五</td>\n",
       "      <td>卷腹</td>\n",
       "      <td>3</td>\n",
       "      <td>15RM*12/15</td>\n",
       "      <td>5</td>\n",
       "      <td>核心腰腹训练</td>\n",
       "    </tr>\n",
       "    <tr>\n",
       "      <th>15</th>\n",
       "      <td>动作六</td>\n",
       "      <td>卷腹</td>\n",
       "      <td>3</td>\n",
       "      <td>25RM*22/25</td>\n",
       "      <td>8</td>\n",
       "      <td>核心腰腹训练</td>\n",
       "    </tr>\n",
       "    <tr>\n",
       "      <th>16</th>\n",
       "      <td>动作七</td>\n",
       "      <td>负重站姿转体</td>\n",
       "      <td>6L/R</td>\n",
       "      <td>25RM*22/25</td>\n",
       "      <td>10</td>\n",
       "      <td>核心腰腹训练</td>\n",
       "    </tr>\n",
       "    <tr>\n",
       "      <th>17</th>\n",
       "      <td>动作八</td>\n",
       "      <td>有氧</td>\n",
       "      <td>1</td>\n",
       "      <td>心率130-150次/分</td>\n",
       "      <td>50</td>\n",
       "      <td>核心腰腹训练</td>\n",
       "    </tr>\n",
       "  </tbody>\n",
       "</table>\n",
       "</div>"
      ],
      "text/plain": [
       "     动作       名称    组数            负荷  时间      备注\n",
       "0   动作一    肩部灵活性     4            木棍   5    肩部训练\n",
       "1   动作二     坐姿推肩     6       20RM*20   7    肩部训练\n",
       "2   动作三     高位下拉     6    25RM*20/25   8    肩部训练\n",
       "3   动作四     坐姿划船     6    15RM*13/15   7    肩部训练\n",
       "4   动作五       快走     1    速度9-10km/h  40    肩部训练\n",
       "5   动作一     山羊挺身     5         自重*15   5    背部训练\n",
       "6   动作二     俯身划船     6    15RM*12/15  10    背部训练\n",
       "7   动作三       硬拉     6    25RM*20/25   8    背部训练\n",
       "8   动作四     水平后展     5    15RM*12/15   7    背部训练\n",
       "9   动作五       快走     1    速度9-10km/h  40    背部训练\n",
       "10  动作一  侧支撑静力支撑  8L/R        自重*30”   5  核心腰腹训练\n",
       "11  动作二   俯身爬行移动     6         自重*5米   5  核心腰腹训练\n",
       "12  动作三     仰撑平板     3        自重*60秒   4  核心腰腹训练\n",
       "13  动作四     俯撑平板     3        自重*90”   5  核心腰腹训练\n",
       "14  动过五       卷腹     3    15RM*12/15   5  核心腰腹训练\n",
       "15  动作六       卷腹     3    25RM*22/25   8  核心腰腹训练\n",
       "16  动作七   负重站姿转体  6L/R    25RM*22/25  10  核心腰腹训练\n",
       "17  动作八       有氧     1  心率130-150次/分  50  核心腰腹训练"
      ]
     },
     "execution_count": 200,
     "metadata": {},
     "output_type": "execute_result"
    }
   ],
   "source": [
    "plan_test.get_plan(complete.loc[tn,plan_test.features])"
   ]
  },
  {
   "cell_type": "code",
   "execution_count": 52,
   "metadata": {
    "collapsed": true
   },
   "outputs": [],
   "source": [
    "# 获取模型\n",
    "plan1 = plan_test.get_plan(complete.loc[tn,plan_test.features])"
   ]
  }
 ],
 "metadata": {
  "kernelspec": {
   "display_name": "Python 3",
   "language": "python",
   "name": "python3"
  },
  "language_info": {
   "codemirror_mode": {
    "name": "ipython",
    "version": 3
   },
   "file_extension": ".py",
   "mimetype": "text/x-python",
   "name": "python",
   "nbconvert_exporter": "python",
   "pygments_lexer": "ipython3",
   "version": "3.6.1"
  }
 },
 "nbformat": 4,
 "nbformat_minor": 2
}
